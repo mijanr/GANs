{
 "metadata": {
  "language_info": {
   "codemirror_mode": {
    "name": "ipython",
    "version": 3
   },
   "file_extension": ".py",
   "mimetype": "text/x-python",
   "name": "python",
   "nbconvert_exporter": "python",
   "pygments_lexer": "ipython3",
   "version": "3.8.8"
  },
  "orig_nbformat": 4,
  "kernelspec": {
   "name": "python3",
   "display_name": "Python 3.8.8 64-bit ('base': conda)"
  },
  "interpreter": {
   "hash": "d53d68a020706dadb480617acc110ed8bfe613cf191444f81cf697acd7d69df3"
  }
 },
 "nbformat": 4,
 "nbformat_minor": 2,
 "cells": [
  {
   "cell_type": "code",
   "execution_count": 12,
   "metadata": {},
   "outputs": [],
   "source": [
    "import tensorflow as tf\n",
    "from tensorflow import keras\n",
    "import matplotlib.pyplot as plt \n",
    "\n"
   ]
  },
  {
   "cell_type": "code",
   "execution_count": 4,
   "metadata": {},
   "outputs": [
    {
     "output_type": "stream",
     "name": "stdout",
     "text": [
      "Downloading data from https://storage.googleapis.com/tensorflow/tf-keras-datasets/mnist.npz\n",
      "11493376/11490434 [==============================] - 1s 0us/step\n"
     ]
    }
   ],
   "source": [
    "(train_images, target_images), (test_images, test_target) = keras.datasets.mnist.load_data()"
   ]
  },
  {
   "cell_type": "code",
   "execution_count": 8,
   "metadata": {},
   "outputs": [
    {
     "output_type": "stream",
     "name": "stdout",
     "text": [
      "train image shape:  (60000, 28, 28)\ntarget image shape:  (60000,)\ntest image shape:  (10000, 28, 28)\ntest target shape:  (10000,)\n"
     ]
    }
   ],
   "source": [
    "print(\"train image shape: \", train_images.shape)\n",
    "print(\"target image shape: \", target_images.shape)\n",
    "print(\"test image shape: \", test_images.shape)\n",
    "print(\"test target shape: \", test_target.shape)"
   ]
  },
  {
   "cell_type": "code",
   "execution_count": 20,
   "metadata": {},
   "outputs": [
    {
     "output_type": "display_data",
     "data": {
      "text/plain": "<Figure size 432x288 with 1 Axes>",
      "image/svg+xml": "<?xml version=\"1.0\" encoding=\"utf-8\" standalone=\"no\"?>\n<!DOCTYPE svg PUBLIC \"-//W3C//DTD SVG 1.1//EN\"\n  \"http://www.w3.org/Graphics/SVG/1.1/DTD/svg11.dtd\">\n<!-- Created with matplotlib (https://matplotlib.org/) -->\n<svg height=\"231.84pt\" version=\"1.1\" viewBox=\"0 0 231.84 231.84\" width=\"231.84pt\" xmlns=\"http://www.w3.org/2000/svg\" xmlns:xlink=\"http://www.w3.org/1999/xlink\">\n <metadata>\n  <rdf:RDF xmlns:cc=\"http://creativecommons.org/ns#\" xmlns:dc=\"http://purl.org/dc/elements/1.1/\" xmlns:rdf=\"http://www.w3.org/1999/02/22-rdf-syntax-ns#\">\n   <cc:Work>\n    <dc:type rdf:resource=\"http://purl.org/dc/dcmitype/StillImage\"/>\n    <dc:date>2021-06-12T08:51:19.501393</dc:date>\n    <dc:format>image/svg+xml</dc:format>\n    <dc:creator>\n     <cc:Agent>\n      <dc:title>Matplotlib v3.3.4, https://matplotlib.org/</dc:title>\n     </cc:Agent>\n    </dc:creator>\n   </cc:Work>\n  </rdf:RDF>\n </metadata>\n <defs>\n  <style type=\"text/css\">*{stroke-linecap:butt;stroke-linejoin:round;}</style>\n </defs>\n <g id=\"figure_1\">\n  <g id=\"patch_1\">\n   <path d=\"M 0 231.84 \nL 231.84 231.84 \nL 231.84 0 \nL 0 0 \nz\n\" style=\"fill:none;\"/>\n  </g>\n  <g id=\"axes_1\">\n   <g clip-path=\"url(#p520cb415b2)\">\n    <image height=\"218\" id=\"imaged8ffb022e8\" transform=\"scale(1 -1)translate(0 -218)\" width=\"218\" x=\"7.2\" xlink:href=\"data:image/png;base64,\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\" y=\"-6.64\"/>\n   </g>\n  </g>\n </g>\n <defs>\n  <clipPath id=\"p520cb415b2\">\n   <rect height=\"217.44\" width=\"217.44\" x=\"7.2\" y=\"7.2\"/>\n  </clipPath>\n </defs>\n</svg>\n",
      "image/png": "[encoded data removed]"
     },
     "metadata": {
      "needs_background": "light"
     }
    }
   ],
   "source": [
    "plt.axis(False)\n",
    "plt.imshow(train_images[0]/255.)\n",
    "plt.show()"
   ]
  },
  {
   "cell_type": "code",
   "execution_count": 31,
   "metadata": {},
   "outputs": [],
   "source": [
    "shape = train_images.shape \n",
    "train_images = train_images.reshape(shape[0], shape[1], shape[2], 1)\n",
    "train_images = (train_images-127.5)/127.5"
   ]
  },
  {
   "cell_type": "code",
   "execution_count": 32,
   "metadata": {},
   "outputs": [],
   "source": [
    "BUFFER_SIZE = 60000\n",
    "BATCH_SIZE = 256"
   ]
  },
  {
   "cell_type": "code",
   "execution_count": 29,
   "metadata": {},
   "outputs": [],
   "source": [
    "# Batch and shuffle the data\n",
    "train_dataset = tf.data.Dataset.from_tensor_slices(train_images).shuffle(BUFFER_SIZE).batch(BATCH_SIZE)"
   ]
  },
  {
   "cell_type": "code",
   "execution_count": 30,
   "metadata": {},
   "outputs": [
    {
     "output_type": "execute_result",
     "data": {
      "text/plain": [
       "<BatchDataset shapes: (None, 28, 28, 1), types: tf.float32>"
      ]
     },
     "metadata": {},
     "execution_count": 30
    }
   ],
   "source": [
    "train_dataset"
   ]
  },
  {
   "cell_type": "code",
   "execution_count": 33,
   "metadata": {},
   "outputs": [],
   "source": [
    "import dataLoader"
   ]
  },
  {
   "cell_type": "code",
   "execution_count": 35,
   "metadata": {},
   "outputs": [],
   "source": [
    "train_dataset = dataLoader.train_dataset"
   ]
  },
  {
   "cell_type": "code",
   "execution_count": null,
   "metadata": {},
   "outputs": [],
   "source": []
  },
  {
   "cell_type": "code",
   "execution_count": 46,
   "metadata": {},
   "outputs": [
    {
     "output_type": "execute_result",
     "data": {
      "text/plain": [
       "TensorShape([1, 28, 28, 1])"
      ]
     },
     "metadata": {},
     "execution_count": 46
    },
    {
     "output_type": "display_data",
     "data": {
      "text/plain": "<Figure size 432x288 with 1 Axes>",
      "image/svg+xml": "<?xml version=\"1.0\" encoding=\"utf-8\" standalone=\"no\"?>\n<!DOCTYPE svg PUBLIC \"-//W3C//DTD SVG 1.1//EN\"\n  \"http://www.w3.org/Graphics/SVG/1.1/DTD/svg11.dtd\">\n<!-- Created with matplotlib (https://matplotlib.org/) -->\n<svg height=\"248.518125pt\" version=\"1.1\" viewBox=\"0 0 251.565 248.518125\" width=\"251.565pt\" xmlns=\"http://www.w3.org/2000/svg\" xmlns:xlink=\"http://www.w3.org/1999/xlink\">\n <metadata>\n  <rdf:RDF xmlns:cc=\"http://creativecommons.org/ns#\" xmlns:dc=\"http://purl.org/dc/elements/1.1/\" xmlns:rdf=\"http://www.w3.org/1999/02/22-rdf-syntax-ns#\">\n   <cc:Work>\n    <dc:type rdf:resource=\"http://purl.org/dc/dcmitype/StillImage\"/>\n    <dc:date>2021-06-12T09:35:56.685299</dc:date>\n    <dc:format>image/svg+xml</dc:format>\n    <dc:creator>\n     <cc:Agent>\n      <dc:title>Matplotlib v3.3.4, https://matplotlib.org/</dc:title>\n     </cc:Agent>\n    </dc:creator>\n   </cc:Work>\n  </rdf:RDF>\n </metadata>\n <defs>\n  <style type=\"text/css\">*{stroke-linecap:butt;stroke-linejoin:round;}</style>\n </defs>\n <g id=\"figure_1\">\n  <g id=\"patch_1\">\n   <path d=\"M 0 248.518125 \nL 251.565 248.518125 \nL 251.565 0 \nL 0 0 \nz\n\" style=\"fill:none;\"/>\n  </g>\n  <g id=\"axes_1\">\n   <g id=\"patch_2\">\n    <path d=\"M 26.925 224.64 \nL 244.365 224.64 \nL 244.365 7.2 \nL 26.925 7.2 \nz\n\" style=\"fill:#ffffff;\"/>\n   </g>\n   <g clip-path=\"url(#p6ec7403a01)\">\n    <image height=\"218\" id=\"image665c1511c6\" transform=\"scale(1 -1)translate(0 -218)\" width=\"218\" x=\"26.925\" xlink:href=\"data:image/png;base64,\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\" y=\"-6.64\"/>\n   </g>\n   <g id=\"matplotlib.axis_1\">\n    <g id=\"xtick_1\">\n     <g id=\"line2d_1\">\n      <defs>\n       <path d=\"M 0 0 \nL 0 3.5 \n\" id=\"m7ae0197b9a\" style=\"stroke:#000000;stroke-width:0.8;\"/>\n      </defs>\n      <g>\n       <use style=\"stroke:#000000;stroke-width:0.8;\" x=\"30.807857\" xlink:href=\"#m7ae0197b9a\" y=\"224.64\"/>\n      </g>\n     </g>\n     <g id=\"text_1\">\n      <!-- 0 -->\n      <g transform=\"translate(27.626607 239.238437)scale(0.1 -0.1)\">\n       <defs>\n        <path d=\"M 31.78125 66.40625 \nQ 24.171875 66.40625 20.328125 58.90625 \nQ 16.5 51.421875 16.5 36.375 \nQ 16.5 21.390625 20.328125 13.890625 \nQ 24.171875 6.390625 31.78125 6.390625 \nQ 39.453125 6.390625 43.28125 13.890625 \nQ 47.125 21.390625 47.125 36.375 \nQ 47.125 51.421875 43.28125 58.90625 \nQ 39.453125 66.40625 31.78125 66.40625 \nz\nM 31.78125 74.21875 \nQ 44.046875 74.21875 50.515625 64.515625 \nQ 56.984375 54.828125 56.984375 36.375 \nQ 56.984375 17.96875 50.515625 8.265625 \nQ 44.046875 -1.421875 31.78125 -1.421875 \nQ 19.53125 -1.421875 13.0625 8.265625 \nQ 6.59375 17.96875 6.59375 36.375 \nQ 6.59375 54.828125 13.0625 64.515625 \nQ 19.53125 74.21875 31.78125 74.21875 \nz\n\" id=\"DejaVuSans-48\"/>\n       </defs>\n       <use xlink:href=\"#DejaVuSans-48\"/>\n      </g>\n     </g>\n    </g>\n    <g id=\"xtick_2\">\n     <g id=\"line2d_2\">\n      <g>\n       <use style=\"stroke:#000000;stroke-width:0.8;\" x=\"69.636429\" xlink:href=\"#m7ae0197b9a\" y=\"224.64\"/>\n      </g>\n     </g>\n     <g id=\"text_2\">\n      <!-- 5 -->\n      <g transform=\"translate(66.455179 239.238437)scale(0.1 -0.1)\">\n       <defs>\n        <path d=\"M 10.796875 72.90625 \nL 49.515625 72.90625 \nL 49.515625 64.59375 \nL 19.828125 64.59375 \nL 19.828125 46.734375 \nQ 21.96875 47.46875 24.109375 47.828125 \nQ 26.265625 48.1875 28.421875 48.1875 \nQ 40.625 48.1875 47.75 41.5 \nQ 54.890625 34.8125 54.890625 23.390625 \nQ 54.890625 11.625 47.5625 5.09375 \nQ 40.234375 -1.421875 26.90625 -1.421875 \nQ 22.3125 -1.421875 17.546875 -0.640625 \nQ 12.796875 0.140625 7.71875 1.703125 \nL 7.71875 11.625 \nQ 12.109375 9.234375 16.796875 8.0625 \nQ 21.484375 6.890625 26.703125 6.890625 \nQ 35.15625 6.890625 40.078125 11.328125 \nQ 45.015625 15.765625 45.015625 23.390625 \nQ 45.015625 31 40.078125 35.4375 \nQ 35.15625 39.890625 26.703125 39.890625 \nQ 22.75 39.890625 18.8125 39.015625 \nQ 14.890625 38.140625 10.796875 36.28125 \nz\n\" id=\"DejaVuSans-53\"/>\n       </defs>\n       <use xlink:href=\"#DejaVuSans-53\"/>\n      </g>\n     </g>\n    </g>\n    <g id=\"xtick_3\">\n     <g id=\"line2d_3\">\n      <g>\n       <use style=\"stroke:#000000;stroke-width:0.8;\" x=\"108.465\" xlink:href=\"#m7ae0197b9a\" y=\"224.64\"/>\n      </g>\n     </g>\n     <g id=\"text_3\">\n      <!-- 10 -->\n      <g transform=\"translate(102.1025 239.238437)scale(0.1 -0.1)\">\n       <defs>\n        <path d=\"M 12.40625 8.296875 \nL 28.515625 8.296875 \nL 28.515625 63.921875 \nL 10.984375 60.40625 \nL 10.984375 69.390625 \nL 28.421875 72.90625 \nL 38.28125 72.90625 \nL 38.28125 8.296875 \nL 54.390625 8.296875 \nL 54.390625 0 \nL 12.40625 0 \nz\n\" id=\"DejaVuSans-49\"/>\n       </defs>\n       <use xlink:href=\"#DejaVuSans-49\"/>\n       <use x=\"63.623047\" xlink:href=\"#DejaVuSans-48\"/>\n      </g>\n     </g>\n    </g>\n    <g id=\"xtick_4\">\n     <g id=\"line2d_4\">\n      <g>\n       <use style=\"stroke:#000000;stroke-width:0.8;\" x=\"147.293571\" xlink:href=\"#m7ae0197b9a\" y=\"224.64\"/>\n      </g>\n     </g>\n     <g id=\"text_4\">\n      <!-- 15 -->\n      <g transform=\"translate(140.931071 239.238437)scale(0.1 -0.1)\">\n       <use xlink:href=\"#DejaVuSans-49\"/>\n       <use x=\"63.623047\" xlink:href=\"#DejaVuSans-53\"/>\n      </g>\n     </g>\n    </g>\n    <g id=\"xtick_5\">\n     <g id=\"line2d_5\">\n      <g>\n       <use style=\"stroke:#000000;stroke-width:0.8;\" x=\"186.122143\" xlink:href=\"#m7ae0197b9a\" y=\"224.64\"/>\n      </g>\n     </g>\n     <g id=\"text_5\">\n      <!-- 20 -->\n      <g transform=\"translate(179.759643 239.238437)scale(0.1 -0.1)\">\n       <defs>\n        <path d=\"M 19.1875 8.296875 \nL 53.609375 8.296875 \nL 53.609375 0 \nL 7.328125 0 \nL 7.328125 8.296875 \nQ 12.9375 14.109375 22.625 23.890625 \nQ 32.328125 33.6875 34.8125 36.53125 \nQ 39.546875 41.84375 41.421875 45.53125 \nQ 43.3125 49.21875 43.3125 52.78125 \nQ 43.3125 58.59375 39.234375 62.25 \nQ 35.15625 65.921875 28.609375 65.921875 \nQ 23.96875 65.921875 18.8125 64.3125 \nQ 13.671875 62.703125 7.8125 59.421875 \nL 7.8125 69.390625 \nQ 13.765625 71.78125 18.9375 73 \nQ 24.125 74.21875 28.421875 74.21875 \nQ 39.75 74.21875 46.484375 68.546875 \nQ 53.21875 62.890625 53.21875 53.421875 \nQ 53.21875 48.921875 51.53125 44.890625 \nQ 49.859375 40.875 45.40625 35.40625 \nQ 44.1875 33.984375 37.640625 27.21875 \nQ 31.109375 20.453125 19.1875 8.296875 \nz\n\" id=\"DejaVuSans-50\"/>\n       </defs>\n       <use xlink:href=\"#DejaVuSans-50\"/>\n       <use x=\"63.623047\" xlink:href=\"#DejaVuSans-48\"/>\n      </g>\n     </g>\n    </g>\n    <g id=\"xtick_6\">\n     <g id=\"line2d_6\">\n      <g>\n       <use style=\"stroke:#000000;stroke-width:0.8;\" x=\"224.950714\" xlink:href=\"#m7ae0197b9a\" y=\"224.64\"/>\n      </g>\n     </g>\n     <g id=\"text_6\">\n      <!-- 25 -->\n      <g transform=\"translate(218.588214 239.238437)scale(0.1 -0.1)\">\n       <use xlink:href=\"#DejaVuSans-50\"/>\n       <use x=\"63.623047\" xlink:href=\"#DejaVuSans-53\"/>\n      </g>\n     </g>\n    </g>\n   </g>\n   <g id=\"matplotlib.axis_2\">\n    <g id=\"ytick_1\">\n     <g id=\"line2d_7\">\n      <defs>\n       <path d=\"M 0 0 \nL -3.5 0 \n\" id=\"mbbe48f0e87\" style=\"stroke:#000000;stroke-width:0.8;\"/>\n      </defs>\n      <g>\n       <use style=\"stroke:#000000;stroke-width:0.8;\" x=\"26.925\" xlink:href=\"#mbbe48f0e87\" y=\"11.082857\"/>\n      </g>\n     </g>\n     <g id=\"text_7\">\n      <!-- 0 -->\n      <g transform=\"translate(13.5625 14.882076)scale(0.1 -0.1)\">\n       <use xlink:href=\"#DejaVuSans-48\"/>\n      </g>\n     </g>\n    </g>\n    <g id=\"ytick_2\">\n     <g id=\"line2d_8\">\n      <g>\n       <use style=\"stroke:#000000;stroke-width:0.8;\" x=\"26.925\" xlink:href=\"#mbbe48f0e87\" y=\"49.911429\"/>\n      </g>\n     </g>\n     <g id=\"text_8\">\n      <!-- 5 -->\n      <g transform=\"translate(13.5625 53.710647)scale(0.1 -0.1)\">\n       <use xlink:href=\"#DejaVuSans-53\"/>\n      </g>\n     </g>\n    </g>\n    <g id=\"ytick_3\">\n     <g id=\"line2d_9\">\n      <g>\n       <use style=\"stroke:#000000;stroke-width:0.8;\" x=\"26.925\" xlink:href=\"#mbbe48f0e87\" y=\"88.74\"/>\n      </g>\n     </g>\n     <g id=\"text_9\">\n      <!-- 10 -->\n      <g transform=\"translate(7.2 92.539219)scale(0.1 -0.1)\">\n       <use xlink:href=\"#DejaVuSans-49\"/>\n       <use x=\"63.623047\" xlink:href=\"#DejaVuSans-48\"/>\n      </g>\n     </g>\n    </g>\n    <g id=\"ytick_4\">\n     <g id=\"line2d_10\">\n      <g>\n       <use style=\"stroke:#000000;stroke-width:0.8;\" x=\"26.925\" xlink:href=\"#mbbe48f0e87\" y=\"127.568571\"/>\n      </g>\n     </g>\n     <g id=\"text_10\">\n      <!-- 15 -->\n      <g transform=\"translate(7.2 131.36779)scale(0.1 -0.1)\">\n       <use xlink:href=\"#DejaVuSans-49\"/>\n       <use x=\"63.623047\" xlink:href=\"#DejaVuSans-53\"/>\n      </g>\n     </g>\n    </g>\n    <g id=\"ytick_5\">\n     <g id=\"line2d_11\">\n      <g>\n       <use style=\"stroke:#000000;stroke-width:0.8;\" x=\"26.925\" xlink:href=\"#mbbe48f0e87\" y=\"166.397143\"/>\n      </g>\n     </g>\n     <g id=\"text_11\">\n      <!-- 20 -->\n      <g transform=\"translate(7.2 170.196362)scale(0.1 -0.1)\">\n       <use xlink:href=\"#DejaVuSans-50\"/>\n       <use x=\"63.623047\" xlink:href=\"#DejaVuSans-48\"/>\n      </g>\n     </g>\n    </g>\n    <g id=\"ytick_6\">\n     <g id=\"line2d_12\">\n      <g>\n       <use style=\"stroke:#000000;stroke-width:0.8;\" x=\"26.925\" xlink:href=\"#mbbe48f0e87\" y=\"205.225714\"/>\n      </g>\n     </g>\n     <g id=\"text_12\">\n      <!-- 25 -->\n      <g transform=\"translate(7.2 209.024933)scale(0.1 -0.1)\">\n       <use xlink:href=\"#DejaVuSans-50\"/>\n       <use x=\"63.623047\" xlink:href=\"#DejaVuSans-53\"/>\n      </g>\n     </g>\n    </g>\n   </g>\n   <g id=\"patch_3\">\n    <path d=\"M 26.925 224.64 \nL 26.925 7.2 \n\" style=\"fill:none;stroke:#000000;stroke-linecap:square;stroke-linejoin:miter;stroke-width:0.8;\"/>\n   </g>\n   <g id=\"patch_4\">\n    <path d=\"M 244.365 224.64 \nL 244.365 7.2 \n\" style=\"fill:none;stroke:#000000;stroke-linecap:square;stroke-linejoin:miter;stroke-width:0.8;\"/>\n   </g>\n   <g id=\"patch_5\">\n    <path d=\"M 26.925 224.64 \nL 244.365 224.64 \n\" style=\"fill:none;stroke:#000000;stroke-linecap:square;stroke-linejoin:miter;stroke-width:0.8;\"/>\n   </g>\n   <g id=\"patch_6\">\n    <path d=\"M 26.925 7.2 \nL 244.365 7.2 \n\" style=\"fill:none;stroke:#000000;stroke-linecap:square;stroke-linejoin:miter;stroke-width:0.8;\"/>\n   </g>\n  </g>\n </g>\n <defs>\n  <clipPath id=\"p6ec7403a01\">\n   <rect height=\"217.44\" width=\"217.44\" x=\"26.925\" y=\"7.2\"/>\n  </clipPath>\n </defs>\n</svg>\n",
      "image/png": "[encoded data removed]"
     },
     "metadata": {
      "needs_background": "light"
     }
    }
   ],
   "source": [
    "from matplotlib import set_loglevel\n",
    "import tensorflow as tf \n",
    "from tensorflow import keras\n",
    "from tensorflow.keras import layers\n",
    "from tensorflow.keras.layers import Dense\n",
    "\n",
    "#create the Generator\n",
    "def Generator():\n",
    "    n_nodes = 7*7*256\n",
    "    model = tf.keras.Sequential() \n",
    "    model.add(Dense(n_nodes, input_shape = (100, )))\n",
    "    model.add(layers.BatchNormalization())\n",
    "    model.add(layers.LeakyReLU())\n",
    "    model.add(layers.Reshape((7,7,256)))\n",
    "    model.add(layers.Conv2DTranspose(128, (5,5), strides=(1,1), padding='same', use_bias=False))\n",
    "    model.add(layers.BatchNormalization())\n",
    "    model.add(layers.LeakyReLU())\n",
    "\n",
    "    model.add(layers.Conv2DTranspose(64, (5,5), strides=(2,2), padding='same', use_bias=False))\n",
    "    model.add(layers.BatchNormalization())\n",
    "    model.add(layers.LeakyReLU())\n",
    "\n",
    "    model.add(layers.Conv2DTranspose(1, (5,5), strides=(2,2), padding='same', use_bias=False, activation='tanh'))\n",
    "\n",
    "\n",
    "    return model\n",
    "\n",
    "generator = Generator()\n",
    "noise = tf.random.normal([1, 100])\n",
    "generated_image = generator(noise)\n",
    "plt.imshow(generated_image[0])\n",
    "generated_image.shape"
   ]
  },
  {
   "cell_type": "code",
   "execution_count": 65,
   "metadata": {},
   "outputs": [
    {
     "output_type": "stream",
     "name": "stdout",
     "text": [
      "tf.Tensor([[0.00194349]], shape=(1, 1), dtype=float32)\n"
     ]
    }
   ],
   "source": [
    "def Discriminator():\n",
    "    model = keras.Sequential()\n",
    "    model.add(layers.Conv2D(64, (5,5), strides=(2,2), padding = 'same', input_shape=[28,28,1]))\n",
    "    model.add(layers.LeakyReLU())\n",
    "    model.add(layers.Dropout(0.3))\n",
    "\n",
    "    model.add(layers.Conv2D(128, (5,5), strides=(2,2), padding = 'same'))\n",
    "    model.add(layers.LeakyReLU())\n",
    "    model.add(layers.Dropout(0.3))\n",
    "\n",
    "    model.add(layers.Flatten())\n",
    "    model.add(layers.Dense(1))\n",
    "\n",
    "    return model\n",
    "\n",
    "discriminator = Discriminator()\n",
    "decision = discriminator(generated_image)\n",
    "print (decision)\n",
    "#discriminator.summary()\n"
   ]
  },
  {
   "cell_type": "code",
   "execution_count": 68,
   "metadata": {},
   "outputs": [],
   "source": [
    "#define loss and optimizers\n",
    "cross_entropy = keras.losses.BinaryCrossentropy(from_logits=True)\n",
    "\n",
    "generator_optimizer = tf.keras.optimizers.Adam(1e-4)\n",
    "discriminator_optimizer = tf.keras.optimizers.Adam(1e-4)\n"
   ]
  },
  {
   "cell_type": "code",
   "execution_count": 69,
   "metadata": {},
   "outputs": [],
   "source": [
    "#Save checkpoints\n",
    "checkpoint_dir = './training_checkpoints'\n",
    "checkpoint_prefix = os.path.join(checkpoint_dir, \"ckpt\")\n",
    "checkpoint = tf.train.Checkpoint(generator_optimizer=generator_optimizer,\n",
    "                                 discriminator_optimizer=discriminator_optimizer,\n",
    "                                 generator=generator,\n",
    "                                 discriminator=discriminator)"
   ]
  },
  {
   "cell_type": "code",
   "execution_count": null,
   "metadata": {},
   "outputs": [],
   "source": []
  }
 ]
}