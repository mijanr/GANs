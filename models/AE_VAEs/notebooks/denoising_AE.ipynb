{
 "cells": [
  {
   "cell_type": "markdown",
   "metadata": {},
   "source": [
    "## Denosing Autoencoder\n",
    "```\n",
    "Denosing autoencoder is a type of autoencoder that is trained to reconstruct the original input from a corrupted version of it by first corrupting the input and then learn to recover the original input.\n",
    "```"
   ]
  },
  {
   "cell_type": "code",
   "execution_count": 1,
   "metadata": {},
   "outputs": [],
   "source": [
    "# necessary imports\n",
    "# add ../src to sys.path\n",
    "import sys\n",
    "sys.path.append('../src')\n",
    "\n",
    "import torch\n",
    "import torch.nn as nn\n",
    "import torch.nn.functional as F\n",
    "import torch.optim as optim\n",
    "import torchvision\n",
    "import torchvision.transforms as transforms\n",
    "\n",
    "import matplotlib.pyplot as plt\n",
    "import numpy as np\n",
    "\n",
    "from tqdm import tqdm, trange\n",
    "\n",
    "import AE as ae"
   ]
  },
  {
   "cell_type": "code",
   "execution_count": 2,
   "metadata": {},
   "outputs": [],
   "source": [
    "# load MNIST data\n",
    "transform = transforms.Compose([transforms.ToTensor()])\n",
    "\n",
    "# datasets\n",
    "trainset = torchvision.datasets.MNIST(root='../../data', train=True, download=True, transform=transform)\n",
    "testset = torchvision.datasets.MNIST(root='../../data', train=False, download=True, transform=transform)\n",
    "\n",
    "\n",
    "# data loaders\n",
    "batch_size = 128\n",
    "trainloader = torch.utils.data.DataLoader(trainset, batch_size=batch_size, shuffle=True)\n",
    "testloader = torch.utils.data.DataLoader(testset, batch_size=batch_size, shuffle=False)"
   ]
  },
  {
   "cell_type": "code",
   "execution_count": 3,
   "metadata": {},
   "outputs": [
    {
     "data": {
      "image/png": "[encoded data removed]",
      "text/plain": [
       "<Figure size 500x500 with 4 Axes>"
      ]
     },
     "metadata": {},
     "output_type": "display_data"
    }
   ],
   "source": [
    "# visualize some data\n",
    "def visualize_data(data, labels):\n",
    "    fig, axs = plt.subplots(2,2, figsize=(5,5))\n",
    "    axs = axs.flatten()\n",
    "    for i in range(4):\n",
    "        axs[i].imshow(data[i].squeeze(), cmap='gray')\n",
    "        axs[i].set_title(labels[i].item())\n",
    "        axs[i].axis('off')\n",
    "    plt.tight_layout()\n",
    "    plt.show()\n",
    "\n",
    "# visualize some data\n",
    "imgs, labels = next(iter(trainloader))\n",
    "visualize_data(imgs, labels)"
   ]
  },
  {
   "cell_type": "code",
   "execution_count": 4,
   "metadata": {},
   "outputs": [],
   "source": [
    "# corrupt the data with gaussian noise\n",
    "def gaussian_noise(data, mean=0, std=0.1):\n",
    "    noise = torch.randn(data.size()) * std + mean\n",
    "    return data + noise"
   ]
  },
  {
   "cell_type": "code",
   "execution_count": 5,
   "metadata": {},
   "outputs": [
    {
     "data": {
      "image/png": "[encoded data removed]",
      "text/plain": [
       "<Figure size 500x500 with 4 Axes>"
      ]
     },
     "metadata": {},
     "output_type": "display_data"
    }
   ],
   "source": [
    "# visualize some data\n",
    "imgs, labels = next(iter(trainloader))\n",
    "imgs = gaussian_noise(imgs)\n",
    "visualize_data(imgs, labels)"
   ]
  },
  {
   "cell_type": "code",
   "execution_count": 6,
   "metadata": {},
   "outputs": [
    {
     "name": "stdout",
     "output_type": "stream",
     "text": [
      "cuda:0\n"
     ]
    }
   ],
   "source": [
    "# device\n",
    "device = torch.device(\"cuda:0\" if torch.cuda.is_available() else \"cpu\")\n",
    "print(device)"
   ]
  },
  {
   "cell_type": "code",
   "execution_count": 7,
   "metadata": {},
   "outputs": [],
   "source": [
    "# image size\n",
    "img_size = imgs[0].shape[1]**2 # 28*28 = 784\n",
    "# latent size\n",
    "latent_size = 20"
   ]
  },
  {
   "cell_type": "code",
   "execution_count": 8,
   "metadata": {},
   "outputs": [
    {
     "name": "stdout",
     "output_type": "stream",
     "text": [
      "Reconstructed images shape:  torch.Size([128, 784])\n",
      "Encoded images shape:  torch.Size([128, 20])\n"
     ]
    }
   ],
   "source": [
    "# define model\n",
    "model = ae.AE(img_size, latent_size).to(device)\n",
    "\n",
    "# pass some data through the model\n",
    "imgs, labels = next(iter(trainloader)) #imgs.shape = [batch_size, 1, 28, 28], labels.shape = [128]\n",
    "\n",
    "# flatten images\n",
    "imgs = imgs.view(imgs.shape[0], -1).to(device) #imgs.shape = [128, 784]\n",
    "recon_imgs, encoded_imgs = model(imgs)\n",
    "\n",
    "print('Reconstructed images shape: ', recon_imgs.shape)\n",
    "print('Encoded images shape: ', encoded_imgs.shape)"
   ]
  },
  {
   "cell_type": "code",
   "execution_count": 9,
   "metadata": {},
   "outputs": [],
   "source": [
    "# optimizer\n",
    "optimizer = optim.Adam(model.parameters(), lr=1e-3)\n",
    "\n",
    "# loss function\n",
    "criterion = nn.MSELoss()"
   ]
  },
  {
   "cell_type": "code",
   "execution_count": 10,
   "metadata": {},
   "outputs": [
    {
     "name": "stderr",
     "output_type": "stream",
     "text": [
      "  1%|          | 1/100 [00:03<06:32,  3.96s/it]"
     ]
    },
    {
     "name": "stdout",
     "output_type": "stream",
     "text": [
      "Epoch: 0, Loss: 0.0331\n"
     ]
    },
    {
     "name": "stderr",
     "output_type": "stream",
     "text": [
      " 11%|█         | 11/100 [00:43<05:53,  3.97s/it]"
     ]
    },
    {
     "name": "stdout",
     "output_type": "stream",
     "text": [
      "Epoch: 10, Loss: 0.0170\n"
     ]
    },
    {
     "name": "stderr",
     "output_type": "stream",
     "text": [
      " 21%|██        | 21/100 [01:23<05:18,  4.03s/it]"
     ]
    },
    {
     "name": "stdout",
     "output_type": "stream",
     "text": [
      "Epoch: 20, Loss: 0.0168\n"
     ]
    },
    {
     "name": "stderr",
     "output_type": "stream",
     "text": [
      " 31%|███       | 31/100 [02:02<04:29,  3.90s/it]"
     ]
    },
    {
     "name": "stdout",
     "output_type": "stream",
     "text": [
      "Epoch: 30, Loss: 0.0172\n"
     ]
    },
    {
     "name": "stderr",
     "output_type": "stream",
     "text": [
      " 41%|████      | 41/100 [02:41<03:47,  3.86s/it]"
     ]
    },
    {
     "name": "stdout",
     "output_type": "stream",
     "text": [
      "Epoch: 40, Loss: 0.0164\n"
     ]
    },
    {
     "name": "stderr",
     "output_type": "stream",
     "text": [
      " 51%|█████     | 51/100 [03:20<03:10,  3.89s/it]"
     ]
    },
    {
     "name": "stdout",
     "output_type": "stream",
     "text": [
      "Epoch: 50, Loss: 0.0158\n"
     ]
    },
    {
     "name": "stderr",
     "output_type": "stream",
     "text": [
      " 61%|██████    | 61/100 [03:59<02:31,  3.89s/it]"
     ]
    },
    {
     "name": "stdout",
     "output_type": "stream",
     "text": [
      "Epoch: 60, Loss: 0.0155\n"
     ]
    },
    {
     "name": "stderr",
     "output_type": "stream",
     "text": [
      " 71%|███████   | 71/100 [04:37<01:50,  3.81s/it]"
     ]
    },
    {
     "name": "stdout",
     "output_type": "stream",
     "text": [
      "Epoch: 70, Loss: 0.0159\n"
     ]
    },
    {
     "name": "stderr",
     "output_type": "stream",
     "text": [
      " 81%|████████  | 81/100 [05:15<01:12,  3.82s/it]"
     ]
    },
    {
     "name": "stdout",
     "output_type": "stream",
     "text": [
      "Epoch: 80, Loss: 0.0157\n"
     ]
    },
    {
     "name": "stderr",
     "output_type": "stream",
     "text": [
      " 91%|█████████ | 91/100 [05:53<00:34,  3.82s/it]"
     ]
    },
    {
     "name": "stdout",
     "output_type": "stream",
     "text": [
      "Epoch: 90, Loss: 0.0149\n"
     ]
    },
    {
     "name": "stderr",
     "output_type": "stream",
     "text": [
      "100%|██████████| 100/100 [06:28<00:00,  3.89s/it]\n"
     ]
    }
   ],
   "source": [
    "# training loop\n",
    "epochs = 100\n",
    "\n",
    "for epoch in trange(epochs):\n",
    "    for i, (imgs, labels) in enumerate(trainloader):\n",
    "\n",
    "        # corrupt images\n",
    "        imgs = gaussian_noise(imgs)\n",
    "\n",
    "        # flatten images\n",
    "        imgs = imgs.view(imgs.shape[0], -1).to(device)\n",
    "\n",
    "\n",
    "        # zero the parameter gradients\n",
    "        optimizer.zero_grad()\n",
    "\n",
    "        # forward pass\n",
    "        recon_imgs, encoded_imgs = model(imgs.to(device))\n",
    "\n",
    "        # compute loss\n",
    "        loss = criterion(recon_imgs, imgs)\n",
    "\n",
    "        # backward pass\n",
    "        loss.backward()\n",
    "\n",
    "        # update parameters\n",
    "        optimizer.step()\n",
    "\n",
    "    # print loss\n",
    "    if epoch % 10 == 0:\n",
    "        print('Epoch: {}, Loss: {:.4f}'.format(epoch, loss.item()))"
   ]
  },
  {
   "cell_type": "code",
   "execution_count": 17,
   "metadata": {},
   "outputs": [],
   "source": [
    "# test model\n",
    "original_imgs, labels = next(iter(testloader))\n",
    "# corrupt images\n",
    "noisy_imgs = gaussian_noise(original_imgs)\n",
    "noisy_imgs = noisy_imgs.view(noisy_imgs.shape[0], -1).to(device)\n",
    "\n",
    "# pass through model\n",
    "recon_imgs, encoded_imgs = model(noisy_imgs)"
   ]
  },
  {
   "cell_type": "code",
   "execution_count": 24,
   "metadata": {},
   "outputs": [
    {
     "data": {
      "image/png": "[encoded data removed]",
      "text/plain": [
       "<Figure size 500x500 with 9 Axes>"
      ]
     },
     "metadata": {},
     "output_type": "display_data"
    }
   ],
   "source": [
    "# visualize the original, noisy and reconstructed images. 3x3 grid\n",
    "# first column: original images, second column: noisy images, third column: reconstructed images\n",
    "plt.subplots(3, 3, figsize=(5,5))\n",
    "for i in range(3):\n",
    "    plt.subplot(3,3,i+1)\n",
    "    plt.imshow(original_imgs[i].detach().numpy().squeeze(), cmap='gray')\n",
    "    plt.title(\"Original\")\n",
    "    plt.axis('off')\n",
    "    plt.subplot(3,3,i+4)\n",
    "    plt.imshow(noisy_imgs[i].reshape(28,28).cpu().detach().numpy(), cmap='gray')\n",
    "    plt.title(\"Noisy\")\n",
    "    plt.axis('off')\n",
    "    plt.subplot(3,3,i+7)\n",
    "    plt.imshow(recon_imgs[i].reshape(28,28).cpu().detach().numpy(), cmap='gray')\n",
    "    plt.title(\"Reconstructed\")\n",
    "    plt.axis('off')\n",
    "\n",
    "plt.tight_layout()\n",
    "plt.show()"
   ]
  },
  {
   "cell_type": "markdown",
   "metadata": {},
   "source": [
    "```\n",
    "Worked nicely. Good stuff!\n",
    "```"
   ]
  }
 ],
 "metadata": {
  "kernelspec": {
   "display_name": "torch",
   "language": "python",
   "name": "python3"
  },
  "language_info": {
   "codemirror_mode": {
    "name": "ipython",
    "version": 3
   },
   "file_extension": ".py",
   "mimetype": "text/x-python",
   "name": "python",
   "nbconvert_exporter": "python",
   "pygments_lexer": "ipython3",
   "version": "3.11.5"
  }
 },
 "nbformat": 4,
 "nbformat_minor": 2
}
