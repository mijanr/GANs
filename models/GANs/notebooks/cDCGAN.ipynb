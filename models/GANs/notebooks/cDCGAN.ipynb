{
 "cells": [
  {
   "cell_type": "markdown",
   "metadata": {},
   "source": [
    "## Conditional Deep Convolutional Generative Adversarial Network (cDCGAN)\n",
    "```\n",
    "Conditional Deep Convolutional Generative Adversarial Network (cDCGAN) is a GAN that uses convolutional layers in the discriminator and generator. It allows class-conditioning of the generated images. This means that we can specify which class of image we want to generate.\n",
    "```"
   ]
  },
  {
   "cell_type": "code",
   "execution_count": 1,
   "metadata": {},
   "outputs": [],
   "source": [
    "# necessary imports\n",
    "# add ../src to sys.path\n",
    "import sys\n",
    "sys.path.append('../src')\n",
    "\n",
    "import torch\n",
    "import torch.nn as nn\n",
    "import torch.nn.functional as F\n",
    "import torch.optim as optim\n",
    "import torchvision\n",
    "import torchvision.transforms as transforms\n",
    "\n",
    "import matplotlib.pyplot as plt\n",
    "import numpy as np\n",
    "\n",
    "from tqdm import tqdm, trange\n",
    "\n",
    "import cDCGAN"
   ]
  },
  {
   "cell_type": "code",
   "execution_count": 2,
   "metadata": {},
   "outputs": [],
   "source": [
    "# load MNIST data\n",
    "transform = transforms.Compose([transforms.ToTensor(), transforms.Normalize((0.5,), (0.5,))])\n",
    "\n",
    "# datasets\n",
    "trainset = torchvision.datasets.MNIST(root='../../data', train=True, download=True, transform=transform)\n",
    "testset = torchvision.datasets.MNIST(root='../../data', train=False, download=True, transform=transform)\n",
    "\n",
    "\n",
    "# data loaders\n",
    "batch_size = 128\n",
    "trainloader = torch.utils.data.DataLoader(trainset, batch_size=batch_size, shuffle=True)\n",
    "testloader = torch.utils.data.DataLoader(testset, batch_size=batch_size, shuffle=False)"
   ]
  },
  {
   "cell_type": "code",
   "execution_count": 3,
   "metadata": {},
   "outputs": [
    {
     "data": {
      "image/png": "[encoded data removed]",
      "text/plain": [
       "<Figure size 500x500 with 4 Axes>"
      ]
     },
     "metadata": {},
     "output_type": "display_data"
    }
   ],
   "source": [
    "# visualize some data\n",
    "def visualize_data(data, labels):\n",
    "    fig, axs = plt.subplots(2,2, figsize=(5,5))\n",
    "    axs = axs.flatten()\n",
    "    for i in range(4):\n",
    "        axs[i].imshow(data[i].squeeze(), cmap='gray')\n",
    "        axs[i].set_title(labels[i].item())\n",
    "        axs[i].axis('off')\n",
    "    plt.tight_layout()\n",
    "    plt.show()\n",
    "\n",
    "# visualize some data\n",
    "imgs, labels = next(iter(trainloader))\n",
    "visualize_data(imgs, labels)"
   ]
  },
  {
   "cell_type": "code",
   "execution_count": 4,
   "metadata": {},
   "outputs": [
    {
     "name": "stdout",
     "output_type": "stream",
     "text": [
      "max:  tensor(1.)\n",
      "min:  tensor(-1.)\n"
     ]
    }
   ],
   "source": [
    "# max and min values of the data\n",
    "print('max: ', torch.max(imgs))\n",
    "print('min: ', torch.min(imgs))"
   ]
  },
  {
   "cell_type": "code",
   "execution_count": 5,
   "metadata": {},
   "outputs": [
    {
     "name": "stdout",
     "output_type": "stream",
     "text": [
      "cuda:0\n"
     ]
    }
   ],
   "source": [
    "# device\n",
    "device = torch.device(\"cuda:0\" if torch.cuda.is_available() else \"cpu\")\n",
    "print(device)"
   ]
  },
  {
   "cell_type": "code",
   "execution_count": 6,
   "metadata": {},
   "outputs": [],
   "source": [
    "# noise dim\n",
    "noise_dim = 100\n",
    "\n",
    "# number of classes\n",
    "num_classes = np.unique(labels).shape[0]"
   ]
  },
  {
   "cell_type": "code",
   "execution_count": 10,
   "metadata": {},
   "outputs": [],
   "source": [
    "# create generator and discriminator models\n",
    "generator = cDCGAN.cGenerator(noise_dim, num_classes).to(device)\n",
    "discriminator = cDCGAN.cDiscriminator(num_classes).to(device)"
   ]
  },
  {
   "cell_type": "code",
   "execution_count": 11,
   "metadata": {},
   "outputs": [
    {
     "name": "stdout",
     "output_type": "stream",
     "text": [
      "torch.Size([32, 1, 28, 28])\n",
      "torch.Size([32, 1])\n"
     ]
    }
   ],
   "source": [
    "# test generator\n",
    "noise = torch.randn(32, noise_dim).to(device)\n",
    "labels = torch.randint(0, num_classes, (32,)).to(device)\n",
    "fake_imgs = generator(noise, labels)\n",
    "print(fake_imgs.shape)\n",
    "\n",
    "# test discriminator\n",
    "preds = discriminator(fake_imgs, labels)\n",
    "print(preds.shape)"
   ]
  },
  {
   "cell_type": "code",
   "execution_count": 12,
   "metadata": {},
   "outputs": [],
   "source": [
    "# optimizers\n",
    "lr = 0.0002\n",
    "beta1 = 0.5\n",
    "beta2 = 0.999\n",
    "optimizer_G = optim.Adam(generator.parameters(), lr=lr, betas=(beta1, beta2))\n",
    "optimizer_D = optim.Adam(discriminator.parameters(), lr=lr, betas=(beta1, beta2))\n",
    "\n",
    "# loss function\n",
    "criterion = nn.BCELoss()"
   ]
  },
  {
   "cell_type": "code",
   "execution_count": 13,
   "metadata": {},
   "outputs": [
    {
     "name": "stderr",
     "output_type": "stream",
     "text": [
      "  0%|          | 1/200 [00:11<38:38, 11.65s/it]"
     ]
    },
    {
     "name": "stdout",
     "output_type": "stream",
     "text": [
      "epoch:  0 loss_D:  0.21963319182395935 loss_G:  3.8592677116394043\n"
     ]
    },
    {
     "name": "stderr",
     "output_type": "stream",
     "text": [
      " 10%|█         | 21/200 [04:00<34:16, 11.49s/it]"
     ]
    },
    {
     "name": "stdout",
     "output_type": "stream",
     "text": [
      "epoch:  20 loss_D:  0.3983180522918701 loss_G:  1.716791033744812\n"
     ]
    },
    {
     "name": "stderr",
     "output_type": "stream",
     "text": [
      " 20%|██        | 41/200 [07:50<30:29, 11.50s/it]"
     ]
    },
    {
     "name": "stdout",
     "output_type": "stream",
     "text": [
      "epoch:  40 loss_D:  0.7321686744689941 loss_G:  2.063819408416748\n"
     ]
    },
    {
     "name": "stderr",
     "output_type": "stream",
     "text": [
      " 30%|███       | 61/200 [11:41<26:40, 11.52s/it]"
     ]
    },
    {
     "name": "stdout",
     "output_type": "stream",
     "text": [
      "epoch:  60 loss_D:  0.2351813018321991 loss_G:  2.166663646697998\n"
     ]
    },
    {
     "name": "stderr",
     "output_type": "stream",
     "text": [
      " 40%|████      | 81/200 [15:47<25:17, 12.76s/it]"
     ]
    },
    {
     "name": "stdout",
     "output_type": "stream",
     "text": [
      "epoch:  80 loss_D:  0.7603467702865601 loss_G:  2.1880812644958496\n"
     ]
    },
    {
     "name": "stderr",
     "output_type": "stream",
     "text": [
      " 50%|█████     | 101/200 [19:47<19:41, 11.94s/it]"
     ]
    },
    {
     "name": "stdout",
     "output_type": "stream",
     "text": [
      "epoch:  100 loss_D:  0.3655305504798889 loss_G:  4.618119239807129\n"
     ]
    },
    {
     "name": "stderr",
     "output_type": "stream",
     "text": [
      " 60%|██████    | 121/200 [24:00<15:02, 11.42s/it]"
     ]
    },
    {
     "name": "stdout",
     "output_type": "stream",
     "text": [
      "epoch:  120 loss_D:  0.31561967730522156 loss_G:  6.496908187866211\n"
     ]
    },
    {
     "name": "stderr",
     "output_type": "stream",
     "text": [
      " 70%|███████   | 141/200 [27:47<11:27, 11.65s/it]"
     ]
    },
    {
     "name": "stdout",
     "output_type": "stream",
     "text": [
      "epoch:  140 loss_D:  0.13981465995311737 loss_G:  4.8753180503845215\n"
     ]
    },
    {
     "name": "stderr",
     "output_type": "stream",
     "text": [
      " 80%|████████  | 161/200 [31:35<07:28, 11.50s/it]"
     ]
    },
    {
     "name": "stdout",
     "output_type": "stream",
     "text": [
      "epoch:  160 loss_D:  0.1263108253479004 loss_G:  4.2047600746154785\n"
     ]
    },
    {
     "name": "stderr",
     "output_type": "stream",
     "text": [
      " 90%|█████████ | 181/200 [35:33<03:44, 11.80s/it]"
     ]
    },
    {
     "name": "stdout",
     "output_type": "stream",
     "text": [
      "epoch:  180 loss_D:  4.185004234313965 loss_G:  0.07471683621406555\n"
     ]
    },
    {
     "name": "stderr",
     "output_type": "stream",
     "text": [
      "100%|██████████| 200/200 [39:14<00:00, 11.77s/it]\n"
     ]
    }
   ],
   "source": [
    "# training loop\n",
    "epochs = 200\n",
    "for epoch in trange(epochs):\n",
    "    for i, (real_imgs, real_labels) in enumerate(trainloader):\n",
    "        \n",
    "        real_imgs = real_imgs.to(device)\n",
    "        real_labels = real_labels.to(device)\n",
    "\n",
    "        # train discriminator\n",
    "        optimizer_D.zero_grad()\n",
    "        # real data\n",
    "        real_preds = discriminator(real_imgs, real_labels)\n",
    "        real_loss = criterion(real_preds, torch.ones_like(real_preds))\n",
    "        # fake data\n",
    "        noise = torch.randn(batch_size, noise_dim).to(device)\n",
    "        fake_labels = torch.randint(0, num_classes, (batch_size,)).to(device)\n",
    "        fake_imgs = generator(noise, fake_labels)\n",
    "        fake_preds = discriminator(fake_imgs, fake_labels)\n",
    "        fake_loss = criterion(fake_preds, torch.zeros_like(fake_preds))\n",
    "        # total loss\n",
    "        loss_D = real_loss + fake_loss\n",
    "        loss_D.backward()\n",
    "        optimizer_D.step()\n",
    "\n",
    "        # train generator\n",
    "        optimizer_G.zero_grad()\n",
    "        noise = torch.randn(batch_size, noise_dim).to(device)\n",
    "        fake_labels = torch.randint(0, num_classes, (batch_size,)).to(device)\n",
    "        fake_imgs = generator(noise, fake_labels)\n",
    "        fake_preds = discriminator(fake_imgs, fake_labels)\n",
    "        loss_G = criterion(fake_preds, torch.ones_like(fake_preds))\n",
    "        loss_G.backward()\n",
    "        optimizer_G.step()\n",
    "\n",
    "    # print losses\n",
    "    if epoch % 20 == 0:\n",
    "        print('epoch: ', epoch, 'loss_D: ', loss_D.item(), 'loss_G: ', loss_G.item())"
   ]
  },
  {
   "cell_type": "code",
   "execution_count": 14,
   "metadata": {},
   "outputs": [],
   "source": [
    "# generate some data\n",
    "noise = torch.randn(32, noise_dim).to(device)\n",
    "labels = torch.randint(0, num_classes, (32,)).to(device)\n",
    "fake_imgs = generator(noise, labels).detach().cpu().numpy()"
   ]
  },
  {
   "cell_type": "code",
   "execution_count": 15,
   "metadata": {},
   "outputs": [
    {
     "data": {
      "image/png": "[encoded data removed]",
      "text/plain": [
       "<Figure size 500x500 with 9 Axes>"
      ]
     },
     "metadata": {},
     "output_type": "display_data"
    }
   ],
   "source": [
    "# visualize some generated data, 3x3 grid\n",
    "fig, axs = plt.subplots(3,3, figsize=(5,5))\n",
    "axs = axs.flatten()\n",
    "for i in range(9):\n",
    "    axs[i].imshow(fake_imgs[i].reshape(28,28), cmap='gray')\n",
    "    axs[i].set_title(labels[i].item())\n",
    "    axs[i].axis('off')\n",
    "plt.tight_layout()\n",
    "plt.show()\n"
   ]
  },
  {
   "cell_type": "markdown",
   "metadata": {},
   "source": [
    "```\n",
    "Nicely done! The results look much better than cGAN. Longer training, plus better hyperparameters will improve the results even further.\n",
    "```"
   ]
  }
 ],
 "metadata": {
  "kernelspec": {
   "display_name": "torch",
   "language": "python",
   "name": "python3"
  },
  "language_info": {
   "codemirror_mode": {
    "name": "ipython",
    "version": 3
   },
   "file_extension": ".py",
   "mimetype": "text/x-python",
   "name": "python",
   "nbconvert_exporter": "python",
   "pygments_lexer": "ipython3",
   "version": "3.11.5"
  }
 },
 "nbformat": 4,
 "nbformat_minor": 2
}
