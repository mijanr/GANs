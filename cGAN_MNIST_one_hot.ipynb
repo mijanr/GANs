{
 "cells": [
  {
   "cell_type": "code",
   "execution_count": 135,
   "metadata": {},
   "outputs": [],
   "source": [
    "import torch\n",
    "import torch.nn as nn\n",
    "import torch.nn.functional as F\n",
    "import torch.optim as optim\n",
    "import torchvision\n",
    "import torchvision.transforms as transforms\n",
    "import matplotlib.pyplot as plt\n",
    "import numpy as np"
   ]
  },
  {
   "cell_type": "code",
   "execution_count": 67,
   "metadata": {},
   "outputs": [],
   "source": [
    "#load mnist dataset\n",
    "transform = transforms.Compose([transforms.ToTensor(), transforms.Normalize((0.5,), (0.5,))])\n",
    "trainset = torchvision.datasets.MNIST(root='./data', train=True, download=True, transform=transform)\n",
    "trainloader = torch.utils.data.DataLoader(trainset, batch_size=64, shuffle=True, drop_last=True)\n",
    "testset = torchvision.datasets.MNIST(root='./data', train=False, download=True, transform=transform)\n",
    "testloader = torch.utils.data.DataLoader(testset, batch_size=64, shuffle=False, drop_last=True)"
   ]
  },
  {
   "cell_type": "code",
   "execution_count": 68,
   "metadata": {},
   "outputs": [],
   "source": [
    "def get_one_hot_labels(labels, n_classes):\n",
    "    return F.one_hot(labels, n_classes).float()"
   ]
  },
  {
   "cell_type": "code",
   "execution_count": 69,
   "metadata": {},
   "outputs": [
    {
     "name": "stdout",
     "output_type": "stream",
     "text": [
      "tensor([[0., 1., 0., 0., 0., 0., 0., 0., 0., 0.],\n",
      "        [0., 0., 1., 0., 0., 0., 0., 0., 0., 0.],\n",
      "        [0., 0., 0., 1., 0., 0., 0., 0., 0., 0.],\n",
      "        [0., 0., 0., 0., 1., 0., 0., 0., 0., 0.],\n",
      "        [0., 0., 0., 0., 0., 1., 0., 0., 0., 0.],\n",
      "        [0., 0., 0., 0., 0., 0., 1., 0., 0., 0.],\n",
      "        [0., 0., 0., 0., 0., 0., 0., 1., 0., 0.],\n",
      "        [0., 0., 0., 0., 0., 0., 0., 0., 1., 0.],\n",
      "        [0., 0., 0., 0., 0., 0., 0., 0., 0., 1.],\n",
      "        [1., 0., 0., 0., 0., 0., 0., 0., 0., 0.]])\n"
     ]
    }
   ],
   "source": [
    "labels = torch.tensor([1, 2, 3, 4, 5, 6, 7, 8, 9, 0])\n",
    "one_hot_labels = get_one_hot_labels(labels, 10)\n",
    "print(one_hot_labels)"
   ]
  },
  {
   "cell_type": "code",
   "execution_count": 70,
   "metadata": {},
   "outputs": [
    {
     "name": "stdout",
     "output_type": "stream",
     "text": [
      "tensor([2, 7, 3, 6, 9, 0, 0, 8, 3, 3])\n"
     ]
    },
    {
     "data": {
      "text/plain": [
       "tensor([[0., 0., 1., 0., 0., 0., 0., 0., 0., 0.],\n",
       "        [0., 0., 0., 0., 0., 0., 0., 1., 0., 0.],\n",
       "        [0., 0., 0., 1., 0., 0., 0., 0., 0., 0.],\n",
       "        [0., 0., 0., 0., 0., 0., 1., 0., 0., 0.],\n",
       "        [0., 0., 0., 0., 0., 0., 0., 0., 0., 1.],\n",
       "        [1., 0., 0., 0., 0., 0., 0., 0., 0., 0.],\n",
       "        [1., 0., 0., 0., 0., 0., 0., 0., 0., 0.],\n",
       "        [0., 0., 0., 0., 0., 0., 0., 0., 1., 0.],\n",
       "        [0., 0., 0., 1., 0., 0., 0., 0., 0., 0.],\n",
       "        [0., 0., 0., 1., 0., 0., 0., 0., 0., 0.]])"
      ]
     },
     "execution_count": 70,
     "metadata": {},
     "output_type": "execute_result"
    }
   ],
   "source": [
    "labels = torch.randint(0, 10, (10,))\n",
    "print(labels)\n",
    "get_one_hot_labels(labels, 10)"
   ]
  },
  {
   "cell_type": "code",
   "execution_count": 71,
   "metadata": {},
   "outputs": [],
   "source": [
    "def combine_vectors(x, y):\n",
    "    return torch.cat((x.float(), y.float()), 1)"
   ]
  },
  {
   "cell_type": "code",
   "execution_count": 72,
   "metadata": {},
   "outputs": [],
   "source": [
    "X = torch.randn(10, 100)\n",
    "Y = get_one_hot_labels(labels, 10)\n",
    "combined = combine_vectors(X, Y)"
   ]
  },
  {
   "cell_type": "code",
   "execution_count": 73,
   "metadata": {},
   "outputs": [
    {
     "data": {
      "text/plain": [
       "torch.Size([10, 110])"
      ]
     },
     "execution_count": 73,
     "metadata": {},
     "output_type": "execute_result"
    }
   ],
   "source": [
    "combined.shape"
   ]
  },
  {
   "cell_type": "code",
   "execution_count": 74,
   "metadata": {},
   "outputs": [
    {
     "data": {
      "text/plain": [
       "torch.Size([10, 110])"
      ]
     },
     "execution_count": 74,
     "metadata": {},
     "output_type": "execute_result"
    }
   ],
   "source": [
    "combined.shape"
   ]
  },
  {
   "cell_type": "code",
   "execution_count": 75,
   "metadata": {},
   "outputs": [],
   "source": [
    "# Generator\n",
    "class cGAN_Generator(nn.Module):\n",
    "    def __init__(self, input_size, hidden_size, output_size, n_classes):\n",
    "        super(cGAN_Generator, self).__init__()\n",
    "        self.input_size = input_size\n",
    "        self.hidden_size = hidden_size\n",
    "        self.output_size = output_size\n",
    "        self.n_classes = n_classes\n",
    "        self.seq = nn.Sequential(\n",
    "            nn.Linear(self.input_size + self.n_classes, self.hidden_size),\n",
    "            nn.ReLU(),\n",
    "            nn.Linear(self.hidden_size, self.hidden_size * 2),\n",
    "            nn.ReLU(),\n",
    "            nn.Linear(self.hidden_size * 2, self.hidden_size * 4),\n",
    "            nn.ReLU(),\n",
    "            nn.Linear(self.hidden_size * 4, self.output_size),\n",
    "            nn.Tanh()\n",
    "        )\n",
    "    def forward(self, x, y):\n",
    "        combined = combine_vectors(x, y)\n",
    "        return self.seq(combined)"
   ]
  },
  {
   "cell_type": "code",
   "execution_count": 137,
   "metadata": {},
   "outputs": [
    {
     "name": "stdout",
     "output_type": "stream",
     "text": [
      "cuda:0\n"
     ]
    }
   ],
   "source": [
    "device = torch.device(\"cuda:0\" if torch.cuda.is_available() else \"cpu\")\n",
    "print(device)"
   ]
  },
  {
   "cell_type": "code",
   "execution_count": 77,
   "metadata": {},
   "outputs": [],
   "source": [
    "input_size = 100\n",
    "hidden_size = 128\n",
    "output_size = 784\n",
    "n_classes = 10\n",
    "generator = cGAN_Generator(input_size, hidden_size, output_size, n_classes).to(device)"
   ]
  },
  {
   "cell_type": "code",
   "execution_count": 78,
   "metadata": {},
   "outputs": [
    {
     "name": "stdout",
     "output_type": "stream",
     "text": [
      "torch.Size([64, 784])\n"
     ]
    }
   ],
   "source": [
    "batch_size = 64\n",
    "noise = torch.randn(batch_size, input_size).to(device)\n",
    "labels = torch.randint(0, n_classes, (batch_size,)).to(device)\n",
    "one_hot_labels = get_one_hot_labels(labels, n_classes).to(device)\n",
    "gen_out = generator(noise, one_hot_labels)\n",
    "print(gen_out.shape)"
   ]
  },
  {
   "cell_type": "code",
   "execution_count": 79,
   "metadata": {},
   "outputs": [],
   "source": [
    "# Discriminator\n",
    "class cGAN_Discriminator(nn.Module):\n",
    "    def __init__(self, input_size, hidden_size, output_size, n_classes):\n",
    "        super(cGAN_Discriminator, self).__init__()\n",
    "        self.input_size = input_size\n",
    "        self.hidden_size = hidden_size\n",
    "        self.output_size = output_size\n",
    "        self.n_classes = n_classes\n",
    "        self.seq = nn.Sequential(\n",
    "            nn.Linear(self.input_size + self.n_classes, self.hidden_size * 4),\n",
    "            nn.LeakyReLU(0.2),\n",
    "            nn.Dropout(0.3),\n",
    "            nn.Linear(self.hidden_size * 4, self.hidden_size * 2),\n",
    "            nn.LeakyReLU(0.2),\n",
    "            nn.Dropout(0.3),\n",
    "            nn.Linear(self.hidden_size * 2, self.hidden_size),\n",
    "            nn.LeakyReLU(0.2),\n",
    "            nn.Dropout(0.3),\n",
    "            nn.Linear(self.hidden_size, self.output_size),\n",
    "            nn.Sigmoid()\n",
    "        )\n",
    "    def forward(self, x, y):\n",
    "        combined = combine_vectors(x, y)\n",
    "        return self.seq(combined)"
   ]
  },
  {
   "cell_type": "code",
   "execution_count": 80,
   "metadata": {},
   "outputs": [],
   "source": [
    "input_size = 784\n",
    "hidden_size = 128\n",
    "output_size = 1\n",
    "n_classes = 10\n",
    "discriminator = cGAN_Discriminator(input_size, hidden_size, output_size, n_classes).to(device)"
   ]
  },
  {
   "cell_type": "code",
   "execution_count": 81,
   "metadata": {},
   "outputs": [
    {
     "name": "stdout",
     "output_type": "stream",
     "text": [
      "torch.Size([64, 1])\n"
     ]
    }
   ],
   "source": [
    "#feed the generator output to the discriminator\n",
    "disc_out = discriminator(gen_out, one_hot_labels)\n",
    "print(disc_out.shape)"
   ]
  },
  {
   "cell_type": "code",
   "execution_count": 82,
   "metadata": {},
   "outputs": [],
   "source": [
    "#loss function and optimizers\n",
    "criterion = nn.BCELoss()\n",
    "lr = 0.0002\n",
    "d_optimizer = optim.Adam(discriminator.parameters(), lr=lr)\n",
    "g_optimizer = optim.Adam(generator.parameters(), lr=lr)"
   ]
  },
  {
   "cell_type": "code",
   "execution_count": 95,
   "metadata": {},
   "outputs": [
    {
     "name": "stdout",
     "output_type": "stream",
     "text": [
      "Epoch [0/100], Step [200/937], d_loss: 0.9060, g_loss: 1.3766, D(x): 0.67, D(G(z)): 0.33\n",
      "Epoch [0/100], Step [400/937], d_loss: 1.1862, g_loss: 1.1108, D(x): 0.59, D(G(z)): 0.42\n",
      "Epoch [0/100], Step [600/937], d_loss: 0.9657, g_loss: 1.2752, D(x): 0.61, D(G(z)): 0.27\n",
      "Epoch [0/100], Step [800/937], d_loss: 1.1038, g_loss: 1.2280, D(x): 0.68, D(G(z)): 0.44\n",
      "Epoch [1/100], Step [200/937], d_loss: 0.9696, g_loss: 1.3386, D(x): 0.64, D(G(z)): 0.33\n",
      "Epoch [1/100], Step [400/937], d_loss: 1.0772, g_loss: 1.1339, D(x): 0.68, D(G(z)): 0.42\n",
      "Epoch [1/100], Step [600/937], d_loss: 1.1009, g_loss: 1.0623, D(x): 0.62, D(G(z)): 0.41\n",
      "Epoch [1/100], Step [800/937], d_loss: 1.0500, g_loss: 1.3519, D(x): 0.65, D(G(z)): 0.35\n",
      "Epoch [2/100], Step [200/937], d_loss: 1.2337, g_loss: 1.1160, D(x): 0.58, D(G(z)): 0.40\n",
      "Epoch [2/100], Step [400/937], d_loss: 1.0625, g_loss: 1.1846, D(x): 0.59, D(G(z)): 0.35\n",
      "Epoch [2/100], Step [600/937], d_loss: 1.1738, g_loss: 1.0412, D(x): 0.59, D(G(z)): 0.40\n",
      "Epoch [2/100], Step [800/937], d_loss: 1.0926, g_loss: 0.9588, D(x): 0.63, D(G(z)): 0.38\n",
      "Epoch [3/100], Step [200/937], d_loss: 1.1261, g_loss: 1.1105, D(x): 0.62, D(G(z)): 0.42\n",
      "Epoch [3/100], Step [400/937], d_loss: 1.1637, g_loss: 1.3559, D(x): 0.62, D(G(z)): 0.42\n",
      "Epoch [3/100], Step [600/937], d_loss: 1.2629, g_loss: 0.9706, D(x): 0.57, D(G(z)): 0.42\n",
      "Epoch [3/100], Step [800/937], d_loss: 1.1382, g_loss: 1.5930, D(x): 0.56, D(G(z)): 0.29\n",
      "Epoch [4/100], Step [200/937], d_loss: 1.2287, g_loss: 0.9111, D(x): 0.61, D(G(z)): 0.43\n",
      "Epoch [4/100], Step [400/937], d_loss: 1.1798, g_loss: 1.4931, D(x): 0.61, D(G(z)): 0.38\n",
      "Epoch [4/100], Step [600/937], d_loss: 1.0852, g_loss: 1.0519, D(x): 0.62, D(G(z)): 0.38\n",
      "Epoch [4/100], Step [800/937], d_loss: 1.0350, g_loss: 1.3713, D(x): 0.63, D(G(z)): 0.36\n",
      "Epoch [5/100], Step [200/937], d_loss: 1.1111, g_loss: 1.3103, D(x): 0.65, D(G(z)): 0.40\n",
      "Epoch [5/100], Step [400/937], d_loss: 1.0301, g_loss: 1.2536, D(x): 0.64, D(G(z)): 0.36\n",
      "Epoch [5/100], Step [600/937], d_loss: 1.0771, g_loss: 1.0939, D(x): 0.63, D(G(z)): 0.39\n",
      "Epoch [5/100], Step [800/937], d_loss: 1.2623, g_loss: 1.0331, D(x): 0.59, D(G(z)): 0.42\n",
      "Epoch [6/100], Step [200/937], d_loss: 1.0440, g_loss: 1.1755, D(x): 0.62, D(G(z)): 0.34\n",
      "Epoch [6/100], Step [400/937], d_loss: 0.8599, g_loss: 1.3531, D(x): 0.67, D(G(z)): 0.27\n",
      "Epoch [6/100], Step [600/937], d_loss: 1.2378, g_loss: 0.9696, D(x): 0.61, D(G(z)): 0.45\n",
      "Epoch [6/100], Step [800/937], d_loss: 1.0831, g_loss: 1.3964, D(x): 0.59, D(G(z)): 0.32\n",
      "Epoch [7/100], Step [200/937], d_loss: 1.1478, g_loss: 1.0853, D(x): 0.63, D(G(z)): 0.42\n",
      "Epoch [7/100], Step [400/937], d_loss: 1.0296, g_loss: 1.2275, D(x): 0.64, D(G(z)): 0.36\n",
      "Epoch [7/100], Step [600/937], d_loss: 1.1783, g_loss: 1.4248, D(x): 0.58, D(G(z)): 0.37\n",
      "Epoch [7/100], Step [800/937], d_loss: 1.0253, g_loss: 1.2062, D(x): 0.62, D(G(z)): 0.36\n",
      "Epoch [8/100], Step [200/937], d_loss: 1.0826, g_loss: 1.2437, D(x): 0.65, D(G(z)): 0.39\n",
      "Epoch [8/100], Step [400/937], d_loss: 1.0930, g_loss: 1.0397, D(x): 0.63, D(G(z)): 0.34\n",
      "Epoch [8/100], Step [600/937], d_loss: 1.1319, g_loss: 1.0324, D(x): 0.59, D(G(z)): 0.39\n",
      "Epoch [8/100], Step [800/937], d_loss: 1.2789, g_loss: 1.0911, D(x): 0.56, D(G(z)): 0.41\n",
      "Epoch [9/100], Step [200/937], d_loss: 1.3852, g_loss: 0.9777, D(x): 0.54, D(G(z)): 0.42\n",
      "Epoch [9/100], Step [400/937], d_loss: 1.2003, g_loss: 1.4088, D(x): 0.60, D(G(z)): 0.38\n",
      "Epoch [9/100], Step [600/937], d_loss: 1.0860, g_loss: 1.1576, D(x): 0.65, D(G(z)): 0.38\n",
      "Epoch [9/100], Step [800/937], d_loss: 1.0901, g_loss: 1.3600, D(x): 0.59, D(G(z)): 0.37\n",
      "Epoch [10/100], Step [200/937], d_loss: 1.1416, g_loss: 1.1900, D(x): 0.54, D(G(z)): 0.33\n",
      "Epoch [10/100], Step [400/937], d_loss: 1.3510, g_loss: 1.0252, D(x): 0.53, D(G(z)): 0.34\n",
      "Epoch [10/100], Step [600/937], d_loss: 1.1649, g_loss: 1.1672, D(x): 0.58, D(G(z)): 0.38\n",
      "Epoch [10/100], Step [800/937], d_loss: 1.1552, g_loss: 1.5164, D(x): 0.56, D(G(z)): 0.34\n",
      "Epoch [11/100], Step [200/937], d_loss: 1.0623, g_loss: 1.1437, D(x): 0.58, D(G(z)): 0.31\n",
      "Epoch [11/100], Step [400/937], d_loss: 1.0714, g_loss: 1.0775, D(x): 0.57, D(G(z)): 0.34\n",
      "Epoch [11/100], Step [600/937], d_loss: 1.4150, g_loss: 1.0832, D(x): 0.51, D(G(z)): 0.39\n",
      "Epoch [11/100], Step [800/937], d_loss: 0.9684, g_loss: 1.0901, D(x): 0.65, D(G(z)): 0.34\n",
      "Epoch [12/100], Step [200/937], d_loss: 1.3246, g_loss: 1.1521, D(x): 0.57, D(G(z)): 0.44\n",
      "Epoch [12/100], Step [400/937], d_loss: 1.4104, g_loss: 1.4343, D(x): 0.55, D(G(z)): 0.43\n",
      "Epoch [12/100], Step [600/937], d_loss: 0.8188, g_loss: 1.4121, D(x): 0.67, D(G(z)): 0.29\n",
      "Epoch [12/100], Step [800/937], d_loss: 1.2231, g_loss: 1.0935, D(x): 0.57, D(G(z)): 0.40\n",
      "Epoch [13/100], Step [200/937], d_loss: 1.0163, g_loss: 1.3046, D(x): 0.64, D(G(z)): 0.37\n",
      "Epoch [13/100], Step [400/937], d_loss: 1.2190, g_loss: 0.9279, D(x): 0.62, D(G(z)): 0.46\n",
      "Epoch [13/100], Step [600/937], d_loss: 1.0754, g_loss: 1.3598, D(x): 0.55, D(G(z)): 0.29\n",
      "Epoch [13/100], Step [800/937], d_loss: 1.2927, g_loss: 0.9530, D(x): 0.62, D(G(z)): 0.47\n",
      "Epoch [14/100], Step [200/937], d_loss: 1.1920, g_loss: 0.8465, D(x): 0.58, D(G(z)): 0.43\n",
      "Epoch [14/100], Step [400/937], d_loss: 1.4481, g_loss: 0.8066, D(x): 0.55, D(G(z)): 0.43\n",
      "Epoch [14/100], Step [600/937], d_loss: 1.1537, g_loss: 1.1888, D(x): 0.56, D(G(z)): 0.36\n",
      "Epoch [14/100], Step [800/937], d_loss: 0.9644, g_loss: 1.0794, D(x): 0.63, D(G(z)): 0.35\n",
      "Epoch [15/100], Step [200/937], d_loss: 1.2083, g_loss: 0.9399, D(x): 0.56, D(G(z)): 0.40\n",
      "Epoch [15/100], Step [400/937], d_loss: 1.0503, g_loss: 1.3198, D(x): 0.65, D(G(z)): 0.39\n",
      "Epoch [15/100], Step [600/937], d_loss: 1.1943, g_loss: 1.1367, D(x): 0.56, D(G(z)): 0.35\n",
      "Epoch [15/100], Step [800/937], d_loss: 1.0586, g_loss: 0.9307, D(x): 0.61, D(G(z)): 0.39\n",
      "Epoch [16/100], Step [200/937], d_loss: 1.1027, g_loss: 1.2633, D(x): 0.59, D(G(z)): 0.35\n",
      "Epoch [16/100], Step [400/937], d_loss: 1.1527, g_loss: 1.0251, D(x): 0.59, D(G(z)): 0.39\n",
      "Epoch [16/100], Step [600/937], d_loss: 1.0687, g_loss: 1.3510, D(x): 0.63, D(G(z)): 0.38\n",
      "Epoch [16/100], Step [800/937], d_loss: 1.1488, g_loss: 1.0609, D(x): 0.57, D(G(z)): 0.37\n",
      "Epoch [17/100], Step [200/937], d_loss: 1.1001, g_loss: 1.0887, D(x): 0.62, D(G(z)): 0.38\n",
      "Epoch [17/100], Step [400/937], d_loss: 1.0353, g_loss: 1.0816, D(x): 0.63, D(G(z)): 0.36\n",
      "Epoch [17/100], Step [600/937], d_loss: 1.2039, g_loss: 0.9916, D(x): 0.60, D(G(z)): 0.44\n",
      "Epoch [17/100], Step [800/937], d_loss: 1.1775, g_loss: 0.8912, D(x): 0.64, D(G(z)): 0.42\n",
      "Epoch [18/100], Step [200/937], d_loss: 1.0652, g_loss: 1.2297, D(x): 0.63, D(G(z)): 0.38\n",
      "Epoch [18/100], Step [400/937], d_loss: 1.1230, g_loss: 1.1310, D(x): 0.61, D(G(z)): 0.34\n",
      "Epoch [18/100], Step [600/937], d_loss: 1.0138, g_loss: 1.1243, D(x): 0.60, D(G(z)): 0.34\n",
      "Epoch [18/100], Step [800/937], d_loss: 1.2995, g_loss: 0.8671, D(x): 0.53, D(G(z)): 0.42\n",
      "Epoch [19/100], Step [200/937], d_loss: 1.1583, g_loss: 1.1093, D(x): 0.60, D(G(z)): 0.40\n",
      "Epoch [19/100], Step [400/937], d_loss: 1.0729, g_loss: 1.3088, D(x): 0.63, D(G(z)): 0.35\n",
      "Epoch [19/100], Step [600/937], d_loss: 1.2480, g_loss: 1.2165, D(x): 0.58, D(G(z)): 0.43\n",
      "Epoch [19/100], Step [800/937], d_loss: 1.0309, g_loss: 1.0633, D(x): 0.67, D(G(z)): 0.40\n",
      "Epoch [20/100], Step [200/937], d_loss: 1.1313, g_loss: 0.9768, D(x): 0.63, D(G(z)): 0.41\n",
      "Epoch [20/100], Step [400/937], d_loss: 1.0699, g_loss: 1.0581, D(x): 0.63, D(G(z)): 0.39\n",
      "Epoch [20/100], Step [600/937], d_loss: 1.3748, g_loss: 1.0149, D(x): 0.59, D(G(z)): 0.47\n",
      "Epoch [20/100], Step [800/937], d_loss: 1.0997, g_loss: 1.2497, D(x): 0.63, D(G(z)): 0.37\n",
      "Epoch [21/100], Step [200/937], d_loss: 1.1542, g_loss: 1.0228, D(x): 0.64, D(G(z)): 0.43\n",
      "Epoch [21/100], Step [400/937], d_loss: 1.1284, g_loss: 0.9887, D(x): 0.67, D(G(z)): 0.43\n",
      "Epoch [21/100], Step [600/937], d_loss: 1.2389, g_loss: 1.2887, D(x): 0.58, D(G(z)): 0.40\n",
      "Epoch [21/100], Step [800/937], d_loss: 1.0862, g_loss: 1.0098, D(x): 0.61, D(G(z)): 0.40\n",
      "Epoch [22/100], Step [200/937], d_loss: 0.9651, g_loss: 1.4982, D(x): 0.63, D(G(z)): 0.32\n",
      "Epoch [22/100], Step [400/937], d_loss: 1.1942, g_loss: 1.0703, D(x): 0.61, D(G(z)): 0.43\n",
      "Epoch [22/100], Step [600/937], d_loss: 1.1910, g_loss: 0.8832, D(x): 0.58, D(G(z)): 0.40\n",
      "Epoch [22/100], Step [800/937], d_loss: 1.2562, g_loss: 1.0445, D(x): 0.60, D(G(z)): 0.43\n",
      "Epoch [23/100], Step [200/937], d_loss: 1.3549, g_loss: 0.9565, D(x): 0.53, D(G(z)): 0.40\n",
      "Epoch [23/100], Step [400/937], d_loss: 1.2560, g_loss: 1.0398, D(x): 0.57, D(G(z)): 0.44\n",
      "Epoch [23/100], Step [600/937], d_loss: 1.1648, g_loss: 0.9961, D(x): 0.59, D(G(z)): 0.40\n",
      "Epoch [23/100], Step [800/937], d_loss: 1.3209, g_loss: 0.9038, D(x): 0.53, D(G(z)): 0.43\n",
      "Epoch [24/100], Step [200/937], d_loss: 1.1276, g_loss: 0.9552, D(x): 0.62, D(G(z)): 0.42\n",
      "Epoch [24/100], Step [400/937], d_loss: 1.2138, g_loss: 1.0801, D(x): 0.61, D(G(z)): 0.46\n",
      "Epoch [24/100], Step [600/937], d_loss: 1.3726, g_loss: 0.8792, D(x): 0.56, D(G(z)): 0.47\n",
      "Epoch [24/100], Step [800/937], d_loss: 1.2335, g_loss: 1.0059, D(x): 0.56, D(G(z)): 0.38\n",
      "Epoch [25/100], Step [200/937], d_loss: 1.4845, g_loss: 1.0034, D(x): 0.50, D(G(z)): 0.43\n",
      "Epoch [25/100], Step [400/937], d_loss: 1.1693, g_loss: 1.0948, D(x): 0.56, D(G(z)): 0.35\n",
      "Epoch [25/100], Step [600/937], d_loss: 1.3118, g_loss: 1.0650, D(x): 0.53, D(G(z)): 0.40\n",
      "Epoch [25/100], Step [800/937], d_loss: 1.0221, g_loss: 1.0441, D(x): 0.67, D(G(z)): 0.41\n",
      "Epoch [26/100], Step [200/937], d_loss: 1.2650, g_loss: 0.8293, D(x): 0.54, D(G(z)): 0.42\n",
      "Epoch [26/100], Step [400/937], d_loss: 1.2530, g_loss: 0.8975, D(x): 0.59, D(G(z)): 0.44\n",
      "Epoch [26/100], Step [600/937], d_loss: 1.1228, g_loss: 1.0637, D(x): 0.60, D(G(z)): 0.40\n",
      "Epoch [26/100], Step [800/937], d_loss: 1.2063, g_loss: 0.8608, D(x): 0.59, D(G(z)): 0.43\n",
      "Epoch [27/100], Step [200/937], d_loss: 1.2768, g_loss: 0.9119, D(x): 0.59, D(G(z)): 0.44\n",
      "Epoch [27/100], Step [400/937], d_loss: 1.1531, g_loss: 1.1693, D(x): 0.58, D(G(z)): 0.34\n",
      "Epoch [27/100], Step [600/937], d_loss: 1.1348, g_loss: 0.8760, D(x): 0.58, D(G(z)): 0.38\n",
      "Epoch [27/100], Step [800/937], d_loss: 1.4093, g_loss: 1.1149, D(x): 0.48, D(G(z)): 0.38\n",
      "Epoch [28/100], Step [200/937], d_loss: 1.2100, g_loss: 0.7965, D(x): 0.59, D(G(z)): 0.43\n",
      "Epoch [28/100], Step [400/937], d_loss: 1.1591, g_loss: 1.1319, D(x): 0.61, D(G(z)): 0.38\n",
      "Epoch [28/100], Step [600/937], d_loss: 1.3016, g_loss: 0.8820, D(x): 0.60, D(G(z)): 0.49\n",
      "Epoch [28/100], Step [800/937], d_loss: 1.3147, g_loss: 0.9711, D(x): 0.59, D(G(z)): 0.48\n",
      "Epoch [29/100], Step [200/937], d_loss: 1.1333, g_loss: 1.1208, D(x): 0.60, D(G(z)): 0.38\n",
      "Epoch [29/100], Step [400/937], d_loss: 1.1302, g_loss: 1.1784, D(x): 0.63, D(G(z)): 0.41\n",
      "Epoch [29/100], Step [600/937], d_loss: 1.1279, g_loss: 0.8838, D(x): 0.61, D(G(z)): 0.41\n",
      "Epoch [29/100], Step [800/937], d_loss: 1.2297, g_loss: 1.0435, D(x): 0.61, D(G(z)): 0.45\n",
      "Epoch [30/100], Step [200/937], d_loss: 1.1746, g_loss: 1.1105, D(x): 0.57, D(G(z)): 0.38\n",
      "Epoch [30/100], Step [400/937], d_loss: 1.1244, g_loss: 1.0237, D(x): 0.60, D(G(z)): 0.35\n",
      "Epoch [30/100], Step [600/937], d_loss: 1.1714, g_loss: 0.8861, D(x): 0.63, D(G(z)): 0.45\n",
      "Epoch [30/100], Step [800/937], d_loss: 1.2569, g_loss: 0.7693, D(x): 0.61, D(G(z)): 0.46\n",
      "Epoch [31/100], Step [200/937], d_loss: 1.2540, g_loss: 0.9919, D(x): 0.54, D(G(z)): 0.39\n",
      "Epoch [31/100], Step [400/937], d_loss: 1.1576, g_loss: 0.8559, D(x): 0.65, D(G(z)): 0.45\n",
      "Epoch [31/100], Step [600/937], d_loss: 1.1104, g_loss: 0.9430, D(x): 0.62, D(G(z)): 0.41\n",
      "Epoch [31/100], Step [800/937], d_loss: 1.2004, g_loss: 1.1456, D(x): 0.54, D(G(z)): 0.38\n",
      "Epoch [32/100], Step [200/937], d_loss: 1.1894, g_loss: 1.0114, D(x): 0.60, D(G(z)): 0.44\n",
      "Epoch [32/100], Step [400/937], d_loss: 1.1292, g_loss: 0.9010, D(x): 0.61, D(G(z)): 0.42\n",
      "Epoch [32/100], Step [600/937], d_loss: 1.3770, g_loss: 1.0392, D(x): 0.51, D(G(z)): 0.43\n",
      "Epoch [32/100], Step [800/937], d_loss: 1.1693, g_loss: 1.2041, D(x): 0.55, D(G(z)): 0.36\n",
      "Epoch [33/100], Step [200/937], d_loss: 1.2006, g_loss: 1.1787, D(x): 0.59, D(G(z)): 0.40\n",
      "Epoch [33/100], Step [400/937], d_loss: 1.2906, g_loss: 0.9094, D(x): 0.57, D(G(z)): 0.47\n",
      "Epoch [33/100], Step [600/937], d_loss: 1.1523, g_loss: 1.1830, D(x): 0.60, D(G(z)): 0.40\n",
      "Epoch [33/100], Step [800/937], d_loss: 1.3126, g_loss: 0.8052, D(x): 0.56, D(G(z)): 0.47\n",
      "Epoch [34/100], Step [200/937], d_loss: 1.3146, g_loss: 0.7992, D(x): 0.59, D(G(z)): 0.49\n",
      "Epoch [34/100], Step [400/937], d_loss: 1.1653, g_loss: 1.0577, D(x): 0.56, D(G(z)): 0.37\n",
      "Epoch [34/100], Step [600/937], d_loss: 1.2860, g_loss: 0.7816, D(x): 0.58, D(G(z)): 0.46\n",
      "Epoch [34/100], Step [800/937], d_loss: 1.1024, g_loss: 0.9713, D(x): 0.61, D(G(z)): 0.41\n"
     ]
    },
    {
     "ename": "KeyboardInterrupt",
     "evalue": "",
     "output_type": "error",
     "traceback": [
      "\u001b[0;31m---------------------------------------------------------------------------\u001b[0m",
      "\u001b[0;31mKeyboardInterrupt\u001b[0m                         Traceback (most recent call last)",
      "Cell \u001b[0;32mIn[95], line 7\u001b[0m\n\u001b[1;32m      5\u001b[0m g_losses \u001b[39m=\u001b[39m []\n\u001b[1;32m      6\u001b[0m \u001b[39mfor\u001b[39;00m epoch \u001b[39min\u001b[39;00m \u001b[39mrange\u001b[39m(num_epochs):\n\u001b[0;32m----> 7\u001b[0m     \u001b[39mfor\u001b[39;00m i, (images, real_labels) \u001b[39min\u001b[39;00m \u001b[39menumerate\u001b[39m(trainloader):\n\u001b[1;32m      8\u001b[0m         \u001b[39m#train the discriminator on real images\u001b[39;00m\n\u001b[1;32m      9\u001b[0m         images \u001b[39m=\u001b[39m images\u001b[39m.\u001b[39mreshape(batch_size, \u001b[39m-\u001b[39m\u001b[39m1\u001b[39m)\u001b[39m.\u001b[39mto(device)\n\u001b[1;32m     10\u001b[0m         real_labels \u001b[39m=\u001b[39m real_labels\u001b[39m.\u001b[39mto(device)\n",
      "File \u001b[0;32m~/anaconda3/envs/pytorch/lib/python3.10/site-packages/torch/utils/data/dataloader.py:624\u001b[0m, in \u001b[0;36m_BaseDataLoaderIter.__next__\u001b[0;34m(self)\u001b[0m\n\u001b[1;32m    623\u001b[0m \u001b[39mdef\u001b[39;00m \u001b[39m__next__\u001b[39m(\u001b[39mself\u001b[39m) \u001b[39m-\u001b[39m\u001b[39m>\u001b[39m Any:\n\u001b[0;32m--> 624\u001b[0m     \u001b[39mwith\u001b[39;00m torch\u001b[39m.\u001b[39;49mautograd\u001b[39m.\u001b[39;49mprofiler\u001b[39m.\u001b[39;49mrecord_function(\u001b[39mself\u001b[39;49m\u001b[39m.\u001b[39;49m_profile_name):\n\u001b[1;32m    625\u001b[0m         \u001b[39mif\u001b[39;00m \u001b[39mself\u001b[39m\u001b[39m.\u001b[39m_sampler_iter \u001b[39mis\u001b[39;00m \u001b[39mNone\u001b[39;00m:\n\u001b[1;32m    626\u001b[0m             \u001b[39m# TODO(https://github.com/pytorch/pytorch/issues/76750)\u001b[39;00m\n\u001b[1;32m    627\u001b[0m             \u001b[39mself\u001b[39m\u001b[39m.\u001b[39m_reset()  \u001b[39m# type: ignore[call-arg]\u001b[39;00m\n",
      "File \u001b[0;32m~/anaconda3/envs/pytorch/lib/python3.10/site-packages/torch/autograd/profiler.py:485\u001b[0m, in \u001b[0;36mrecord_function.__init__\u001b[0;34m(self, name, args)\u001b[0m\n\u001b[1;32m    482\u001b[0m \u001b[39mself\u001b[39m\u001b[39m.\u001b[39mrun_callbacks_on_exit: \u001b[39mbool\u001b[39m \u001b[39m=\u001b[39m \u001b[39mTrue\u001b[39;00m\n\u001b[1;32m    483\u001b[0m \u001b[39m# Stores underlying RecordFunction as a tensor. TODO: move to custom\u001b[39;00m\n\u001b[1;32m    484\u001b[0m \u001b[39m# class (https://github.com/pytorch/pytorch/issues/35026).\u001b[39;00m\n\u001b[0;32m--> 485\u001b[0m \u001b[39mself\u001b[39m\u001b[39m.\u001b[39mhandle: torch\u001b[39m.\u001b[39mTensor \u001b[39m=\u001b[39m torch\u001b[39m.\u001b[39;49mzeros(\u001b[39m1\u001b[39;49m)\n",
      "\u001b[0;31mKeyboardInterrupt\u001b[0m: "
     ]
    }
   ],
   "source": [
    "#training\n",
    "num_epochs = 100\n",
    "total_step = len(trainloader)\n",
    "d_losses = []\n",
    "g_losses = []\n",
    "for epoch in range(num_epochs):\n",
    "    for i, (images, real_labels) in enumerate(trainloader):\n",
    "        #train the discriminator on real images\n",
    "        images = images.reshape(batch_size, -1).to(device)\n",
    "        real_labels = real_labels.to(device)\n",
    "        real_labels_one_hot = get_one_hot_labels(real_labels, n_classes).to(device)\n",
    "        real_outputs = discriminator(images, real_labels_one_hot).view(-1)\n",
    "        d_loss_real = criterion(real_outputs, torch.ones_like(real_outputs))\n",
    "        real_score = real_outputs\n",
    "        #train the discriminator on fake images\n",
    "        z = torch.randn(batch_size, 100).to(device)\n",
    "        fake_labels = torch.randint(0, n_classes, (batch_size,)).to(device)\n",
    "        fake_labels_one_hot = get_one_hot_labels(fake_labels, n_classes).to(device)\n",
    "        fake_images = generator(z, fake_labels_one_hot)\n",
    "        fake_outputs = discriminator(fake_images, fake_labels_one_hot).view(-1)\n",
    "        d_loss_fake = criterion(fake_outputs, torch.zeros_like(fake_outputs))\n",
    "        fake_score = fake_outputs\n",
    "        #backprop and optimize\n",
    "        d_loss = d_loss_real + d_loss_fake\n",
    "        d_optimizer.zero_grad()\n",
    "        d_loss.backward()\n",
    "        d_optimizer.step()\n",
    "        #train the generator\n",
    "        z = torch.randn(batch_size, 100).to(device)\n",
    "        fake_labels = torch.randint(0, n_classes, (batch_size,)).to(device)\n",
    "        fake_labels_one_hot = get_one_hot_labels(fake_labels, n_classes).to(device)\n",
    "        fake_images = generator(z, fake_labels_one_hot)\n",
    "        outputs = discriminator(fake_images, fake_labels_one_hot).view(-1)\n",
    "        g_loss = criterion(outputs, torch.ones_like(outputs))\n",
    "        g_optimizer.zero_grad()\n",
    "        g_loss.backward()\n",
    "        g_optimizer.step()\n",
    "        if (i+1) % 200 == 0:\n",
    "            print('Epoch [{}/{}], Step [{}/{}], d_loss: {:.4f}, g_loss: {:.4f}, D(x): {:.2f}, D(G(z)): {:.2f}'\n",
    "                  .format(epoch, num_epochs, i+1, total_step, d_loss.item(), g_loss.item(),\n",
    "                          real_score.mean().item(), fake_score.mean().item()))\n",
    "    d_losses.append(d_loss.item())\n",
    "    g_losses.append(g_loss.item())"
   ]
  },
  {
   "cell_type": "code",
   "execution_count": 132,
   "metadata": {},
   "outputs": [],
   "source": [
    "#generate images\n",
    "z = torch.randn(batch_size, 100).to(device)\n",
    "fake_labels = torch.randint(9, 10, (batch_size,)).to(device)\n",
    "fake_labels_one_hot = get_one_hot_labels(fake_labels, n_classes).to(device)\n",
    "fake_images = generator(z, fake_labels_one_hot)\n",
    "fake_images = fake_images.reshape(batch_size, 1, 28, 28)\n",
    "fake_images = fake_images.detach().cpu()"
   ]
  },
  {
   "cell_type": "code",
   "execution_count": 133,
   "metadata": {},
   "outputs": [
    {
     "data": {
      "text/plain": [
       "torch.Size([64, 1, 28, 28])"
      ]
     },
     "execution_count": 133,
     "metadata": {},
     "output_type": "execute_result"
    }
   ],
   "source": [
    "fake_images.shape"
   ]
  },
  {
   "cell_type": "code",
   "execution_count": 134,
   "metadata": {},
   "outputs": [
    {
     "data": {
      "image/png": "[encoded data removed]",
      "text/plain": [
       "<Figure size 500x500 with 9 Axes>"
      ]
     },
     "metadata": {},
     "output_type": "display_data"
    }
   ],
   "source": [
    "#3x3 grid of images\n",
    "fig, axes = plt.subplots(nrows=3, ncols=3, sharex=True, sharey=True, figsize=(5,5))\n",
    "for ax, img in zip(axes.flatten(), fake_images):\n",
    "    img = img.numpy()\n",
    "    img = np.transpose(img, (1, 2, 0))\n",
    "    ax.xaxis.set_visible(False)\n",
    "    ax.yaxis.set_visible(False)\n",
    "    im = ax.imshow(img.reshape((28,28)), cmap='Greys_r')"
   ]
  },
  {
   "cell_type": "code",
   "execution_count": null,
   "metadata": {},
   "outputs": [],
   "source": []
  }
 ],
 "metadata": {
  "kernelspec": {
   "display_name": "pytorch",
   "language": "python",
   "name": "python3"
  },
  "language_info": {
   "codemirror_mode": {
    "name": "ipython",
    "version": 3
   },
   "file_extension": ".py",
   "mimetype": "text/x-python",
   "name": "python",
   "nbconvert_exporter": "python",
   "pygments_lexer": "ipython3",
   "version": "3.10.8"
  },
  "orig_nbformat": 4,
  "vscode": {
   "interpreter": {
    "hash": "77f0ac4a1ff910c6f832be6ab53afe92115f75471ff7ffff1273b50351d0e386"
   }
  }
 },
 "nbformat": 4,
 "nbformat_minor": 2
}
