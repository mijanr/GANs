{
 "cells": [
  {
   "cell_type": "markdown",
   "metadata": {},
   "source": [
    "# Conditonal GAN\n",
    "A vanilla GAN is a class-agostic generative model, which means the samples it generates can be from any class. However, in many applications, we want to generate samples from a specific class. For example, we want to generate images of a specific digit, or we want to generate images of a specific person. In this case, we need to condition the GAN on the class label. This is called a conditional GAN."
   ]
  },
  {
   "cell_type": "code",
   "execution_count": 1,
   "metadata": {},
   "outputs": [],
   "source": [
    "import torch\n",
    "import torch.nn as nn"
   ]
  },
  {
   "cell_type": "markdown",
   "metadata": {},
   "source": [
    "## 1. Add class infomration as learned embeddings\n",
    "We can add class information to the GAN by concatenating the class embedding to the noise vector. The class embedding is a vector representation of the class label."
   ]
  },
  {
   "cell_type": "code",
   "execution_count": 5,
   "metadata": {},
   "outputs": [
    {
     "name": "stdout",
     "output_type": "stream",
     "text": [
      "torch.Size([32, 5])\n",
      "torch.Size([32, 105])\n"
     ]
    }
   ],
   "source": [
    "# example\n",
    "batch_size = 32\n",
    "emb = nn.Embedding(10, 5) # 10 classes, 5 dimensions for each class\n",
    "labels = torch.randint(0, 10, (batch_size,)) # 32 labels\n",
    "noise = torch.randn(batch_size, 100) # 32 latent vectors\n",
    "\n",
    "emb_labels = emb(labels) # 32 label embeddings\n",
    "print(emb_labels.shape) # torch.Size([32, 5])\n",
    "\n",
    "gen_input = torch.cat((emb_labels, noise), -1) # 32 latent vectors concatenated with 32 label embeddings\n",
    "print(gen_input.shape) # torch.Size([32, 105])"
   ]
  },
  {
   "cell_type": "code",
   "execution_count": null,
   "metadata": {},
   "outputs": [],
   "source": []
  }
 ],
 "metadata": {
  "kernelspec": {
   "display_name": "torch",
   "language": "python",
   "name": "python3"
  },
  "language_info": {
   "codemirror_mode": {
    "name": "ipython",
    "version": 3
   },
   "file_extension": ".py",
   "mimetype": "text/x-python",
   "name": "python",
   "nbconvert_exporter": "python",
   "pygments_lexer": "ipython3",
   "version": "3.11.5"
  }
 },
 "nbformat": 4,
 "nbformat_minor": 2
}
