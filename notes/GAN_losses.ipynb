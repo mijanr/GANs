{
 "cells": [
  {
   "cell_type": "markdown",
   "metadata": {},
   "source": [
    "# Losses used in training GANs\n"
   ]
  },
  {
   "cell_type": "code",
   "execution_count": 1,
   "metadata": {},
   "outputs": [],
   "source": [
    "import torch\n",
    "import torch.nn as nn\n",
    "import torch.nn.functional as F"
   ]
  },
  {
   "cell_type": "markdown",
   "metadata": {},
   "source": [
    "## 1. Binary Cross Entropy (BCE) Loss\n",
    "\n",
    "BCE loss is used for binary classification problems, where the output of the discriminator is a single scalar between 0 and 1. While the discriminator tries to maximize the probability of assigning the correct label to both real and fake images, the generator tries to minimize the probability of the discriminator assigning the correct label to fake images.\n",
    "\n",
    "The BCE loss is defined as:\n",
    "\n",
    "$$\n",
    "\\begin{aligned}\n",
    "\\mathcal{L}_{\\text{BCE}}(x, y) &= -\\frac{1}{N}\\sum_{i=1}^N \\left[ y_i \\log x_i + (1-y_i) \\log (1-x_i) \\right] \\\\\n",
    "\\end{aligned}\n",
    "$$\n",
    "\n",
    "where $x$ is the discriminator output, $y$ is the ground truth label, and $N$ is the batch size."
   ]
  },
  {
   "cell_type": "code",
   "execution_count": 9,
   "metadata": {},
   "outputs": [
    {
     "name": "stdout",
     "output_type": "stream",
     "text": [
      "tensor(1.9315)\n"
     ]
    }
   ],
   "source": [
    "# example for discriminator loss\n",
    "real_labels = torch.ones(10, 1)\n",
    "fake_labels = torch.zeros(10, 1)\n",
    "\n",
    "# sigmoid function \n",
    "sigmoid = nn.Sigmoid()\n",
    "# discriminator output for real data\n",
    "disc_out_real = torch.randn(10, 1)\n",
    "# discriminator output for fake data\n",
    "disc_out_fake = torch.randn(10, 1)\n",
    "\n",
    "# apply sigmoid to get probabilities\n",
    "prob_real = sigmoid(disc_out_real)\n",
    "prob_fake = sigmoid(disc_out_fake)\n",
    "\n",
    "# calculate loss\n",
    "loss_real = F.binary_cross_entropy(prob_real, real_labels)\n",
    "loss_fake = F.binary_cross_entropy(prob_fake, fake_labels)\n",
    "\n",
    "# total discriminator loss\n",
    "disc_loss = loss_real + loss_fake\n",
    "print(disc_loss)"
   ]
  }
 ],
 "metadata": {
  "kernelspec": {
   "display_name": "torch",
   "language": "python",
   "name": "python3"
  },
  "language_info": {
   "codemirror_mode": {
    "name": "ipython",
    "version": 3
   },
   "file_extension": ".py",
   "mimetype": "text/x-python",
   "name": "python",
   "nbconvert_exporter": "python",
   "pygments_lexer": "ipython3",
   "version": "3.11.5"
  }
 },
 "nbformat": 4,
 "nbformat_minor": 2
}
