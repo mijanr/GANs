{
  "cells": [
    {
      "cell_type": "markdown",
      "metadata": {
        "colab_type": "text",
        "id": "view-in-github"
      },
      "source": [
        "<a href=\"https://colab.research.google.com/github/mijanr/GANs/blob/master/cGAN_MNIST.ipynb\" target=\"_parent\"><img src=\"https://colab.research.google.com/assets/colab-badge.svg\" alt=\"Open In Colab\"/></a>"
      ]
    },
    {
      "cell_type": "code",
      "execution_count": null,
      "metadata": {
        "id": "X17zzt3Fj1pW"
      },
      "outputs": [],
      "source": [
        "#necessary imports\n",
        "import torch\n",
        "import torch.nn as nn\n",
        "import torchvision\n",
        "from torchvision import transforms, datasets\n",
        "import torchvision.transforms as transforms \n",
        "\n",
        "import matplotlib.pyplot as plt\n",
        "import seaborn as sns\n",
        "import numpy as np\n",
        "\n",
        "from tqdm import tqdm, trange"
      ]
    },
    {
      "cell_type": "code",
      "execution_count": null,
      "metadata": {},
      "outputs": [],
      "source": [
        "#set a fixed image size\n",
        "sns.set(rc={'image.cmap':'gray', 'figure.figsize':(12,10)})\n",
        "sns.set_style(\"darkgrid\")"
      ]
    },
    {
      "cell_type": "code",
      "execution_count": null,
      "metadata": {
        "id": "TUJj_cmUj1pZ"
      },
      "outputs": [],
      "source": [
        "#load the dataset\n",
        "dataset = datasets.MNIST(root='data/', train=True, transform=transforms.ToTensor(), download=True)"
      ]
    },
    {
      "cell_type": "code",
      "execution_count": null,
      "metadata": {},
      "outputs": [],
      "source": [
        "#dataloader\n",
        "dataloader = torch.utils.data.DataLoader(dataset, batch_size=100, shuffle=True)"
      ]
    },
    {
      "cell_type": "code",
      "execution_count": null,
      "metadata": {},
      "outputs": [],
      "source": [
        "#plot a grid of images\n",
        "def plot_grid(images):\n",
        "    grid = torchvision.utils.make_grid(images)\n",
        "    plt.imshow(np.transpose(grid, (1, 2, 0)))\n",
        "    plt.show()"
      ]
    },
    {
      "cell_type": "code",
      "execution_count": null,
      "metadata": {},
      "outputs": [],
      "source": [
        "#plot a grid of images\n",
        "plot_grid(next(iter(dataloader))[0])"
      ]
    },
    {
      "cell_type": "code",
      "execution_count": null,
      "metadata": {},
      "outputs": [],
      "source": [
        "#Let's create a Conditional GAN\n",
        "#Generator\n",
        "class Generator(nn.Module):\n",
        "    def __init__(self):\n",
        "        super(Generator, self).__init__()\n",
        "        self.embedding = nn.Embedding(10, 10)\n",
        "        self.sequential = nn.Sequential(\n",
        "            nn.Linear(110, 256),\n",
        "            nn.LeakyReLU(0.2),\n",
        "            nn.Linear(256, 512),\n",
        "            nn.LeakyReLU(0.2),\n",
        "            nn.Linear(512, 1024),\n",
        "            nn.LeakyReLU(0.2),\n",
        "            nn.Linear(1024, 784),\n",
        "            nn.Tanh()\n",
        "        )\n",
        "    def forward(self, z, labels):\n",
        "        c = self.embedding(labels)\n",
        "        x = torch.cat([z, c], 1)\n",
        "        return self.sequential(x)#.view(-1, 1, 28, 28)\n",
        "#Discriminator\n",
        "class Discriminator(nn.Module):\n",
        "    def __init__(self):\n",
        "        super(Discriminator, self).__init__()\n",
        "        self.embedding = nn.Embedding(10, 10)\n",
        "        self.sequential = nn.Sequential(\n",
        "            nn.Linear(794, 1024),\n",
        "            nn.LeakyReLU(0.2),\n",
        "            nn.Dropout(0.3),\n",
        "            nn.Linear(1024, 512),\n",
        "            nn.LeakyReLU(0.2),\n",
        "            nn.Dropout(0.3),\n",
        "            nn.Linear(512, 256),\n",
        "            nn.LeakyReLU(0.2),\n",
        "            nn.Dropout(0.3),\n",
        "            nn.Linear(256, 1),\n",
        "            nn.Sigmoid()\n",
        "        )\n",
        "    def forward(self, x, labels):\n",
        "        c = self.embedding(labels)\n",
        "        x = torch.cat([x, c], 1)\n",
        "        return self.sequential(x)"
      ]
    },
    {
      "cell_type": "code",
      "execution_count": null,
      "metadata": {},
      "outputs": [],
      "source": [
        "gen = Generator()\n",
        "disc = Discriminator()"
      ]
    },
    {
      "cell_type": "code",
      "execution_count": null,
      "metadata": {},
      "outputs": [],
      "source": [
        "X = torch.randn(10, 100)\n",
        "print(X.shape)\n",
        "labels = torch.randint(0, 10, (10,))\n",
        "out = gen(X, labels)\n",
        "print(out.shape)"
      ]
    },
    {
      "cell_type": "code",
      "execution_count": null,
      "metadata": {},
      "outputs": [],
      "source": [
        "disc(out, labels)"
      ]
    },
    {
      "cell_type": "code",
      "execution_count": null,
      "metadata": {},
      "outputs": [],
      "source": [
        "#optimizer\n",
        "opt_gen = torch.optim.Adam(gen.parameters(), lr=0.0002)\n",
        "opt_disc = torch.optim.Adam(disc.parameters(), lr=0.0002)\n",
        "#loss function\n",
        "loss = nn.BCELoss()"
      ]
    },
    {
      "cell_type": "code",
      "execution_count": null,
      "metadata": {},
      "outputs": [],
      "source": [
        "for real, labels in dataloader:\n",
        "    print(real.shape)\n",
        "    print(labels.shape)\n",
        "    break"
      ]
    },
    {
      "cell_type": "code",
      "execution_count": null,
      "metadata": {},
      "outputs": [],
      "source": [
        "#training\n",
        "epochs = 10\n",
        "for epoch in trange(epochs):\n",
        "    for real, labels in tqdm(dataloader):\n",
        "        #real = real.view(-1, 784)\n",
        "        real = real.view(-1, 784)\n",
        "        #training discriminator\n",
        "        opt_disc.zero_grad()\n",
        "        #real\n",
        "        D_real = disc(real, labels)\n",
        "        loss_real = loss(D_real, torch.ones_like(D_real))\n",
        "        #fake\n",
        "        z = torch.randn(100, 100)\n",
        "        fake_labels = torch.randint(0, 10, (100,))\n",
        "        fake = gen(z, fake_labels)\n",
        "        D_fake = disc(fake.detach(), fake_labels)\n",
        "        loss_fake = loss(D_fake, torch.zeros_like(D_fake))\n",
        "        #total loss\n",
        "        loss_disc = loss_real + loss_fake\n",
        "        loss_disc.backward()\n",
        "        opt_disc.step()\n",
        "        #training generator\n",
        "        opt_gen.zero_grad()\n",
        "        D_fake = disc(fake, fake_labels)\n",
        "        loss_gen = loss(D_fake, torch.ones_like(D_fake))\n",
        "        loss_gen.backward()\n",
        "        opt_gen.step()\n",
        "    print(f\"Epoch {epoch+1}/{epochs}, Loss D: {loss_disc.item():.4f}, Loss G: {loss_gen.item():.4f}\")\n",
        "    #plot fake images after every 10 epochs\n",
        "    if (epoch+1)%10 == 0:\n",
        "        plot_grid(fake.view(-1, 1, 28, 28).detach())\n",
        "    "
      ]
    },
    {
      "cell_type": "code",
      "execution_count": null,
      "metadata": {},
      "outputs": [],
      "source": []
    }
  ],
  "metadata": {
    "accelerator": "GPU",
    "colab": {
      "include_colab_link": true,
      "provenance": []
    },
    "gpuClass": "standard",
    "kernelspec": {
      "display_name": "Python 3.9.12 ('base')",
      "language": "python",
      "name": "python3"
    },
    "language_info": {
      "codemirror_mode": {
        "name": "ipython",
        "version": 3
      },
      "file_extension": ".py",
      "mimetype": "text/x-python",
      "name": "python",
      "nbconvert_exporter": "python",
      "pygments_lexer": "ipython3",
      "version": "3.9.12"
    },
    "orig_nbformat": 4,
    "vscode": {
      "interpreter": {
        "hash": "7ab6c9a234243e9b1b8e01397e3e97ef7ba16898c560b20da106745d48591deb"
      }
    }
  },
  "nbformat": 4,
  "nbformat_minor": 0
}
